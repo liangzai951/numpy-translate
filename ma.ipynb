{
 "cells": [
  {
   "cell_type": "markdown",
   "metadata": {},
   "source": [
    "# [numpy.ma](https://docs.scipy.org/doc/numpy-1.13.0/reference/maskedarray.generic.html#what-is-a-masked-array)\n",
    "## numpy.ma模块\n",
    "### 基本原理\n",
    "***\n",
    "当数组元素包括缺失值或异常值时，该数组被称为掩码数组。`numpy.ma`模块的工作方式可以这么来解释：支持数值数组中包含掩码元素。\n",
    "### 什么是掩码数组呢？\n",
    "***\n",
    "在很多情况下，数据集可能是不完整或存在无效数据的。例如，一个传感器对于某个数值可能有以下两种存储情况：存储失败、存入一个无效数据。`numpy.ma`模块通过引入掩码数组，为这种问题的解决提供了一种便捷的方法。     \n",
    "掩码数组是将标准的多维数组`numpy.ndarray`和掩码相结合。掩码要么是`nomask`，表示与该掩码有关数组的所有值都是有效的。要么是一个布尔值数组，用于确定关联数组的每个元素值是否有效。当掩码中某个元素值为False，那么关联数组的对应元素是有效的，即被认为是未掩码的。当掩码中某个元素值为True，那么关联数组的对应元素是无效的，即被认为是掩码的。      \n",
    "这个包可以确保掩码项不参与计算。     \n",
    "为了让大家有一个直观的认识，我们给出下例: "
   ]
  },
  {
   "cell_type": "code",
   "execution_count": 1,
   "metadata": {},
   "outputs": [],
   "source": [
    "import numpy as np\n",
    "import numpy.ma as ma\n",
    "x = np.array([1, 2, 3, -1, 5])"
   ]
  },
  {
   "cell_type": "markdown",
   "metadata": {},
   "source": [
    "我们想要将x数组中第四个值标记为无效数据。最便捷的方法是创建一个掩码数组: "
   ]
  },
  {
   "cell_type": "code",
   "execution_count": 2,
   "metadata": {},
   "outputs": [],
   "source": [
    "mx = ma.masked_array(x, mask=[0, 0, 0, 1, 0])"
   ]
  },
  {
   "cell_type": "markdown",
   "metadata": {},
   "source": [
    "现在，我们可以在不考虑`-1`这个异常值的情况下，计算数组x的均值:"
   ]
  },
  {
   "cell_type": "code",
   "execution_count": 3,
   "metadata": {},
   "outputs": [
    {
     "name": "stdout",
     "output_type": "stream",
     "text": [
      "仅仅计算[1, 2, 3, 5]的均值，计算结果为：2.75\n"
     ]
    }
   ],
   "source": [
    "print('仅仅计算[1, 2, 3, 5]的均值，计算结果为：{}'.format(mx.mean()))"
   ]
  },
  {
   "cell_type": "markdown",
   "metadata": {},
   "source": [
    "### numpy.ma模块\n",
    "`numpy.ma`模块最主要的特性是掩码数组`MaskedArray`类，该类是多维数组`numpy.ndarray`的子类。掩码数组的属性以及方法详见[MaskedArray class](https://docs.scipy.org/doc/numpy-1.13.0/reference/maskedarray.baseclass.html#maskedarray-baseclass)。     \n",
    "`numpy.ma`模块可以当作`numpy`包的补充:"
   ]
  },
  {
   "cell_type": "code",
   "execution_count": 4,
   "metadata": {},
   "outputs": [],
   "source": [
    "import numpy as np\n",
    "import numpy.ma as ma"
   ]
  },
  {
   "cell_type": "markdown",
   "metadata": {},
   "source": [
    "我们可以这样子创建一个第二个元素无效的数组:"
   ]
  },
  {
   "cell_type": "code",
   "execution_count": 5,
   "metadata": {},
   "outputs": [],
   "source": [
    "y = ma.array([1, 2, 3], mask = [0, 1, 0])"
   ]
  },
  {
   "cell_type": "markdown",
   "metadata": {},
   "source": [
    "我们可以创建一个掩码数组，其中所有接近1.e20的值都是无效的:"
   ]
  },
  {
   "cell_type": "code",
   "execution_count": 6,
   "metadata": {},
   "outputs": [],
   "source": [
    "z = ma.masked_values([1.0, 1.e20, 3.0, 4.0], 1.e20)"
   ]
  },
  {
   "cell_type": "markdown",
   "metadata": {},
   "source": [
    "更多创建掩码数组的方法详见[Constructing masked arrays](https://docs.scipy.org/doc/numpy-1.13.0/reference/maskedarray.generic.html#maskedarray-generic-constructing)。"
   ]
  },
  {
   "cell_type": "markdown",
   "metadata": {},
   "source": [
    "# 使用numpy.ma\n",
    "## 构建掩码数组    \n",
    "***\n",
    "有如下几种方法来创建掩码数组。    \n",
    "* 第一种方式是直接调用`MaskedArray`类。     \n",
    "* 第二种方式是使用两种掩码数组构造函数，`array`和`masked_array`。\n",
    "    - `array`(data[, dtype, copy, order, mask, ...])：  定义了掩码值的数组类\n",
    "    - `masked_array`：  和`MaskedArray`一样\n",
    "* 第三种方式是获取现有数组的视图。在这种情况下，如果数组没有命名字段，或者没有与数组结构相同的布尔数组，则将视图的掩码设置为`nomask`。"
   ]
  },
  {
   "cell_type": "code",
   "execution_count": 7,
   "metadata": {},
   "outputs": [
    {
     "data": {
      "text/plain": [
       "masked_array(data=[1, 2, 3],\n",
       "             mask=False,\n",
       "       fill_value=999999)"
      ]
     },
     "execution_count": 7,
     "metadata": {},
     "output_type": "execute_result"
    }
   ],
   "source": [
    "x = np.array([1, 2, 3])\n",
    "x.view(ma.MaskedArray)"
   ]
  },
  {
   "cell_type": "code",
   "execution_count": 8,
   "metadata": {},
   "outputs": [
    {
     "data": {
      "text/plain": [
       "masked_array(data=[(1, 1.0), (2, 2.0)],\n",
       "             mask=[(False, False), (False, False)],\n",
       "       fill_value=(999999, 1.e+20),\n",
       "            dtype=[('a', '<i4'), ('b', '<f8')])"
      ]
     },
     "execution_count": 8,
     "metadata": {},
     "output_type": "execute_result"
    }
   ],
   "source": [
    "x = np.array([(1, 1.), (2, 2.)], dtype=[('a',int), ('b', float)])\n",
    "x.view(ma.MaskedArray)"
   ]
  },
  {
   "cell_type": "markdown",
   "metadata": {},
   "source": [
    "* 以下函数也可以创建掩码数组:\n",
    "\n",
    "| 函数名 | 功能 |\n",
    "|:---:|:---:|\n",
    "| `asarray`(a[, dtype, order]) | 基于给定的数值类型将输入数据转换为掩码数组 |\n",
    "| `asanyarray`(a[, dtype]) | 不改变子类的前提下，将输入数据转换为掩码数组 |\n",
    "| `fix_invalid`(a[, mask, copy, fill_value]) | 将输入数组中的无效元素用填充值进行替代 |\n",
    "| `masked_equal`(x, value[, copy]) | 对数组中等于**value**的值进行掩码操作 |\n",
    "| `masked_greater`(x, value[, copy]) | 对数组中大于**value**的值进行掩码操作 |\n",
    "| `masked_greater_equal`(x, value[, copy]) | 对数组中大于等于**value**的值进行掩码操作 |\n",
    "| `masked_inside`(x, v1, v2[, copy]) | 对数组中落在给定区间的值进行掩码操作 |\n",
    "| `masked_invalid`(a[, copy]) | 对数组中无效数据（例如NaN或inf）进行掩码操作 |\n",
    "| `masked_less`(x, value[, copy]) | 对数组中小于**value**的值进行掩码操作 |\n",
    "| `masked_less_equal`(x, value[, copy]) | 对数组中小于等于**value**的值进行掩码操作 |\n",
    "| `masked_not_equal`(x, value[, copy]) | 对数组中不等于**value**的值进行掩码操作 |\n",
    "| `masked_object`(x, value[, copy, shrink]) | 对数组（元素为'cats'等对象）中等于**value**的值进行掩码操作 |\n",
    "| `masked_outside`(x, v1, v2[, copy]) | 对数组中落在给定区间之外的值进行掩码操作 |\n",
    "| `masked_values`(x, value[, rtol, atol, copy, ...]) | 被掩码部分替换为`--` |\n",
    "| `masked_where`(condition, a[, copy]) | 对数组中满足条件的部分进行掩码操作 |\n",
    "\n",
    "## 访问数据\n",
    "***\n",
    "掩码数组的底层数据可以通过以下方式进行访问:    \n",
    "* 通过`data`属性。输出是数组的视图，该数组的类型取决于掩码数组创建时的底层数据类型，可能为`numpy.ndarray`或其子类。\n",
    "* 通过`__array__`方法。输出为多维数组`numpy.ndarray`。    \n",
    "* 直接将掩码数组的视图视为多维数组`numpy.ndarray`或其子类之一(实际上是使用`data`属性来完成)。\n",
    "* 通过使用`getdata`函数。     \n",
    "如果某些项被标已经被标记为无效，那么这些方法的结果都差强人意。有一个通用规则，如果需要一个没有任何掩码项的数组表示，建议使用填充`filled`的方法填充数组。    \n",
    "\n",
    "## 访问掩码\n",
    "***\n",
    "掩码数组可以通过其`mask`属性获取掩码。我们必须记住掩码中的`True`表示无效数据。使用`getmask`和`getmaskarray`函数也可以获取到掩码。如果`x`为掩码数组`getmask(x)`将返回`x`的掩码，否则返回`nomask`。如果`x`为掩码数组`getmaskarray(x)`将返回`x`的掩码。如果`x`没有无效值或者其不为掩码数组，该函数返回`len(x)`个`False`组成的布尔型数组。   \n",
    "\n",
    "## 仅获取有效值\n",
    "为了检索数组中的有效值，我们可以使用掩码取反作为索引。掩码取反操作可以使用函数`numpy.logical_not`来完成，或者仅仅使用`~`操作符:"
   ]
  },
  {
   "cell_type": "code",
   "execution_count": 9,
   "metadata": {},
   "outputs": [
    {
     "data": {
      "text/plain": [
       "masked_array(data=[1, 4],\n",
       "             mask=[False, False],\n",
       "       fill_value=999999)"
      ]
     },
     "execution_count": 9,
     "metadata": {},
     "output_type": "execute_result"
    }
   ],
   "source": [
    "x = ma.array([[1, 2], [3, 4]], mask=[[0, 1], [1, 0]])\n",
    "x[~x.mask]"
   ]
  },
  {
   "cell_type": "markdown",
   "metadata": {},
   "source": [
    "另外一种检索有效值的方法是使用`compressed`方法，这个方法将返回一维向量`ndarray`（或者它的一个子类，取决于baseclass属性的值）:"
   ]
  },
  {
   "cell_type": "code",
   "execution_count": 10,
   "metadata": {},
   "outputs": [
    {
     "data": {
      "text/plain": [
       "array([1, 4])"
      ]
     },
     "execution_count": 10,
     "metadata": {},
     "output_type": "execute_result"
    }
   ],
   "source": [
    "x.compressed()"
   ]
  },
  {
   "cell_type": "markdown",
   "metadata": {},
   "source": [
    "备注:`compressed`的返回值通常为1维。\n",
    "\n",
    "## 修改掩码\n",
    "***\n",
    "### 屏蔽一个条目\n",
    "***\n",
    "将一个掩码数组中的一个或多个特定项标记为无效的推荐方法是将掩码值`masked`赋给它们:"
   ]
  },
  {
   "cell_type": "code",
   "execution_count": 11,
   "metadata": {},
   "outputs": [
    {
     "data": {
      "text/plain": [
       "masked_array(data=[--, 2, 3],\n",
       "             mask=[ True, False, False],\n",
       "       fill_value=999999)"
      ]
     },
     "execution_count": 11,
     "metadata": {},
     "output_type": "execute_result"
    }
   ],
   "source": [
    "x = ma.array([1, 2, 3])\n",
    "x[0] = ma.masked\n",
    "x"
   ]
  },
  {
   "cell_type": "code",
   "execution_count": 12,
   "metadata": {},
   "outputs": [
    {
     "data": {
      "text/plain": [
       "masked_array(\n",
       "  data=[[1, --, 3],\n",
       "        [4, 5, --],\n",
       "        [--, 8, 9]],\n",
       "  mask=[[False,  True, False],\n",
       "        [False, False,  True],\n",
       "        [ True, False, False]],\n",
       "  fill_value=999999)"
      ]
     },
     "execution_count": 12,
     "metadata": {},
     "output_type": "execute_result"
    }
   ],
   "source": [
    "y = ma.array([[1, 2, 3], [4, 5, 6], [7, 8, 9]])\n",
    "y[(0, 1, 2), (1, 2, 0)] = ma.masked\n",
    "y"
   ]
  },
  {
   "cell_type": "code",
   "execution_count": 13,
   "metadata": {},
   "outputs": [
    {
     "data": {
      "text/plain": [
       "masked_array(data=[--, --, 3, 4],\n",
       "             mask=[ True,  True, False, False],\n",
       "       fill_value=999999)"
      ]
     },
     "execution_count": 13,
     "metadata": {},
     "output_type": "execute_result"
    }
   ],
   "source": [
    "z = ma.array([1, 2, 3, 4])\n",
    "z[:-2] = ma.masked\n",
    "z"
   ]
  },
  {
   "cell_type": "markdown",
   "metadata": {},
   "source": [
    "另外一种方法就是使用`mask`直接修改掩码，但是这种方法已经被废除了。      \n",
    "**注意：**     \n",
    "当使用简单的，非结构化的数据类型创建新的掩码数组时，掩码会被初始化为`nomask`，相当于布尔值序列全为`False`。      \n",
    "一个数组中的所有元素可以一并设置其掩码为`True`:    "
   ]
  },
  {
   "cell_type": "code",
   "execution_count": 14,
   "metadata": {},
   "outputs": [
    {
     "data": {
      "text/plain": [
       "masked_array(data=[--, --, --],\n",
       "             mask=[ True,  True,  True],\n",
       "       fill_value=999999,\n",
       "            dtype=int32)"
      ]
     },
     "execution_count": 14,
     "metadata": {},
     "output_type": "execute_result"
    }
   ],
   "source": [
    "x = ma.array([1, 2, 3], mask=[0, 0, 1])\n",
    "x.mask = True\n",
    "x"
   ]
  },
  {
   "cell_type": "markdown",
   "metadata": {},
   "source": [
    "可以通过对布尔值序列进行赋值来确定数组中的哪些元素用掩码表示:"
   ]
  },
  {
   "cell_type": "code",
   "execution_count": 15,
   "metadata": {},
   "outputs": [
    {
     "data": {
      "text/plain": [
       "masked_array(data=[1, --, 3],\n",
       "             mask=[False,  True, False],\n",
       "       fill_value=999999)"
      ]
     },
     "execution_count": 15,
     "metadata": {},
     "output_type": "execute_result"
    }
   ],
   "source": [
    "x = ma.array([1, 2, 3])\n",
    "x.mask = [0, 1, 0]\n",
    "x"
   ]
  },
  {
   "cell_type": "markdown",
   "metadata": {},
   "source": [
    "### 对屏蔽条目解除屏蔽\n",
    "我们可以通过对屏蔽条目赋予新的有效值来解除其屏蔽:"
   ]
  },
  {
   "cell_type": "code",
   "execution_count": 16,
   "metadata": {},
   "outputs": [
    {
     "data": {
      "text/plain": [
       "masked_array(data=[1, 2, --],\n",
       "             mask=[False, False,  True],\n",
       "       fill_value=999999)"
      ]
     },
     "execution_count": 16,
     "metadata": {},
     "output_type": "execute_result"
    }
   ],
   "source": [
    "x = ma.array([1, 2, 3], mask=[0, 0, 1])\n",
    "x"
   ]
  },
  {
   "cell_type": "code",
   "execution_count": 17,
   "metadata": {},
   "outputs": [
    {
     "data": {
      "text/plain": [
       "masked_array(data=[1, 2, 5],\n",
       "             mask=[False, False, False],\n",
       "       fill_value=999999)"
      ]
     },
     "execution_count": 17,
     "metadata": {},
     "output_type": "execute_result"
    }
   ],
   "source": [
    "x[-1] = 5\n",
    "x"
   ]
  },
  {
   "cell_type": "markdown",
   "metadata": {},
   "source": [
    "**注意：**      \n",
    "当掩码数组属性为`hard mask`时，可能不能有效地对其解除屏蔽。这个特性是为了防止用户对掩码值进行覆盖。要想取消数组的`hard_mask`属性，必须在解除屏蔽前先对其利用`soften_mask`方法进行软化。当然，修改完毕之后也可以使用`harden_mask`属性防止掩码部分被修改:"
   ]
  },
  {
   "cell_type": "code",
   "execution_count": 18,
   "metadata": {},
   "outputs": [
    {
     "data": {
      "text/plain": [
       "masked_array(data=[1, 2, --],\n",
       "             mask=[False, False,  True],\n",
       "       fill_value=999999)"
      ]
     },
     "execution_count": 18,
     "metadata": {},
     "output_type": "execute_result"
    }
   ],
   "source": [
    "x = ma.array([1, 2, 3], mask=[0, 0, 1], hard_mask=True)\n",
    "x"
   ]
  },
  {
   "cell_type": "code",
   "execution_count": 19,
   "metadata": {},
   "outputs": [
    {
     "data": {
      "text/plain": [
       "masked_array(data=[1, 2, --],\n",
       "             mask=[False, False,  True],\n",
       "       fill_value=999999)"
      ]
     },
     "execution_count": 19,
     "metadata": {},
     "output_type": "execute_result"
    }
   ],
   "source": [
    "x[-1] = 5\n",
    "x"
   ]
  },
  {
   "cell_type": "code",
   "execution_count": 20,
   "metadata": {},
   "outputs": [
    {
     "data": {
      "text/plain": [
       "masked_array(data=[1, 2, 5],\n",
       "             mask=[False, False, False],\n",
       "       fill_value=999999)"
      ]
     },
     "execution_count": 20,
     "metadata": {},
     "output_type": "execute_result"
    }
   ],
   "source": [
    "x.soften_mask()              # 软化\n",
    "x[-1] = 5\n",
    "x"
   ]
  },
  {
   "cell_type": "code",
   "execution_count": 22,
   "metadata": {},
   "outputs": [
    {
     "data": {
      "text/plain": [
       "masked_array(data=[1, 2, --],\n",
       "             mask=[False, False,  True],\n",
       "       fill_value=999999)"
      ]
     },
     "execution_count": 22,
     "metadata": {},
     "output_type": "execute_result"
    }
   ],
   "source": [
    "x[-1] = ma.masked\n",
    "xx.harden_mask()             # 防止掩码部分修改\n",
    "x[-1] = 2\n",
    "x"
   ]
  },
  {
   "cell_type": "markdown",
   "metadata": {},
   "source": [
    "对掩码数组（非`hard mask`）所有屏蔽部分解屏蔽的最简单方法是给`mask`赋常数`nomask`:"
   ]
  },
  {
   "cell_type": "code",
   "execution_count": 23,
   "metadata": {},
   "outputs": [
    {
     "data": {
      "text/plain": [
       "masked_array(data=[1, 2, --],\n",
       "             mask=[False, False,  True],\n",
       "       fill_value=999999)"
      ]
     },
     "execution_count": 23,
     "metadata": {},
     "output_type": "execute_result"
    }
   ],
   "source": [
    "x = ma.array([1, 2, 3], mask=[0, 0, 1])\n",
    "x"
   ]
  },
  {
   "cell_type": "code",
   "execution_count": 24,
   "metadata": {},
   "outputs": [
    {
     "data": {
      "text/plain": [
       "masked_array(data=[1, 2, 3],\n",
       "             mask=[False, False, False],\n",
       "       fill_value=999999)"
      ]
     },
     "execution_count": 24,
     "metadata": {},
     "output_type": "execute_result"
    }
   ],
   "source": [
    "x.mask = ma.nomask\n",
    "x"
   ]
  },
  {
   "cell_type": "markdown",
   "metadata": {},
   "source": [
    "### 索引和切片\n",
    "***\n",
    "由于掩码数组`MaskedArray`是多维数组`numpy.ndarray`的子类，所以它继承了索引和切片的机制。      \n",
    "当获取一个没有命名空间的掩码数组的单一元素时，输出值既不是标量（如果掩码的对应项为`False`）也不是特殊值`masked`（如果掩码的对应项为`True`）:"
   ]
  },
  {
   "cell_type": "code",
   "execution_count": 25,
   "metadata": {},
   "outputs": [
    {
     "data": {
      "text/plain": [
       "1"
      ]
     },
     "execution_count": 25,
     "metadata": {},
     "output_type": "execute_result"
    }
   ],
   "source": [
    "x = ma.array([1, 2, 3], mask=[0, 0, 1])\n",
    "x[0]"
   ]
  },
  {
   "cell_type": "code",
   "execution_count": 26,
   "metadata": {},
   "outputs": [
    {
     "data": {
      "text/plain": [
       "masked"
      ]
     },
     "execution_count": 26,
     "metadata": {},
     "output_type": "execute_result"
    }
   ],
   "source": [
    "x[-1]"
   ]
  },
  {
   "cell_type": "code",
   "execution_count": 27,
   "metadata": {},
   "outputs": [
    {
     "data": {
      "text/plain": [
       "True"
      ]
     },
     "execution_count": 27,
     "metadata": {},
     "output_type": "execute_result"
    }
   ],
   "source": [
    "x[-1] is ma.masked"
   ]
  },
  {
   "cell_type": "markdown",
   "metadata": {},
   "source": [
    "如果掩码数组有命名空间，则从中获取一个元素和多维数组的返回机制相同:"
   ]
  },
  {
   "cell_type": "code",
   "execution_count": 32,
   "metadata": {},
   "outputs": [
    {
     "data": {
      "text/plain": [
       "(1, 2)"
      ]
     },
     "execution_count": 32,
     "metadata": {},
     "output_type": "execute_result"
    }
   ],
   "source": [
    "y = ma.masked_array([(1,2), (3, 4)], mask=[(0, 0), (0, 1)], dtype=[('a', int), ('b', int)])\n",
    "y[0]"
   ]
  },
  {
   "cell_type": "code",
   "execution_count": 33,
   "metadata": {},
   "outputs": [
    {
     "data": {
      "text/plain": [
       "(3, --)"
      ]
     },
     "execution_count": 33,
     "metadata": {},
     "output_type": "execute_result"
    }
   ],
   "source": [
    "y[-1]"
   ]
  },
  {
   "cell_type": "markdown",
   "metadata": {},
   "source": [
    "当从掩码数组中获取一个切片时，其返回值仍然是掩码数组，并且为原数组的一个视图。返回数组的`mask`既不是`nomask`（如果原始数组中没有无效数据），也不是原始数组`mask`的一个副本。所以在切片时最好做深拷贝，以防止对切片数据修改的同时也修改了原始数组。"
   ]
  },
  {
   "cell_type": "code",
   "execution_count": 34,
   "metadata": {},
   "outputs": [
    {
     "data": {
      "text/plain": [
       "masked_array(data=[1, --, 3],\n",
       "             mask=[False,  True, False],\n",
       "       fill_value=999999)"
      ]
     },
     "execution_count": 34,
     "metadata": {},
     "output_type": "execute_result"
    }
   ],
   "source": [
    "x = ma.array([1, 2, 3, 4, 5], mask=[0, 1, 0, 0, 1])\n",
    "mx = x[:3]\n",
    "mx"
   ]
  },
  {
   "cell_type": "code",
   "execution_count": 35,
   "metadata": {},
   "outputs": [
    {
     "data": {
      "text/plain": [
       "masked_array(data=[1, -1, 3],\n",
       "             mask=[False, False, False],\n",
       "       fill_value=999999)"
      ]
     },
     "execution_count": 35,
     "metadata": {},
     "output_type": "execute_result"
    }
   ],
   "source": [
    "mx[1] = -1\n",
    "mx"
   ]
  },
  {
   "cell_type": "code",
   "execution_count": 36,
   "metadata": {},
   "outputs": [
    {
     "data": {
      "text/plain": [
       "array([False, False, False, False,  True])"
      ]
     },
     "execution_count": 36,
     "metadata": {},
     "output_type": "execute_result"
    }
   ],
   "source": [
    "x.mask                        # 切片数据的修改影响到了原始数据，所以应该深拷贝"
   ]
  },
  {
   "cell_type": "code",
   "execution_count": 37,
   "metadata": {},
   "outputs": [
    {
     "data": {
      "text/plain": [
       "array([ 1, -1,  3,  4,  5])"
      ]
     },
     "execution_count": 37,
     "metadata": {},
     "output_type": "execute_result"
    }
   ],
   "source": [
    "x.data"
   ]
  },
  {
   "cell_type": "markdown",
   "metadata": {},
   "source": [
    "使用结构化数据类型访问掩码数组的字段将返回一个掩码数组`MaskedArray`。      \n",
    "### 对掩码数组进行操作\n",
    "***\n",
    "掩码数组支持数学运算和逻辑运算。掩码数组中的无效数据将不参与运算，这意味着相应的数据项在操作前后应该不会发生改变。      \n",
    "**注意：**      \n",
    "我们应该强调掩码部分不发生改变的特性不是掩码数组自带的属性，在一些情况下掩码数值有可能在运算的过程中发生改变，所以用户不应该在运算过程中将掩码数值不变当作一个假设。     \n",
    "`numpy.ma`支持大多数的数学运算。对于一些有特定定义域的函数（例如`log`、`divide`），当运算结果为无效值时，返回`masked`常数:"
   ]
  },
  {
   "cell_type": "code",
   "execution_count": 38,
   "metadata": {},
   "outputs": [
    {
     "data": {
      "text/plain": [
       "masked_array(data=[--, --, 0.0, 0.6931471805599453],\n",
       "             mask=[ True,  True, False, False],\n",
       "       fill_value=1e+20)"
      ]
     },
     "execution_count": 38,
     "metadata": {},
     "output_type": "execute_result"
    }
   ],
   "source": [
    "ma.log([-1, 0, 1, 2])"
   ]
  },
  {
   "cell_type": "markdown",
   "metadata": {},
   "source": [
    "掩码数组也支持标准的numpy函数，输出为掩码数组。当函数的输入值被屏蔽时，函数不会对该部分进行计算。当输入值超出了函数的定义域，函数会返回掩码值:"
   ]
  },
  {
   "cell_type": "code",
   "execution_count": 39,
   "metadata": {},
   "outputs": [
    {
     "name": "stderr",
     "output_type": "stream",
     "text": [
      "D:\\Users\\wuzhe\\Anaconda3\\lib\\site-packages\\ipykernel_launcher.py:2: RuntimeWarning: divide by zero encountered in log\n",
      "  \n",
      "D:\\Users\\wuzhe\\Anaconda3\\lib\\site-packages\\ipykernel_launcher.py:2: RuntimeWarning: invalid value encountered in log\n",
      "  \n"
     ]
    },
    {
     "data": {
      "text/plain": [
       "masked_array(data=[--, 0.0, --, 0.6931471805599453, --],\n",
       "             mask=[ True, False,  True, False,  True],\n",
       "       fill_value=1e+20)"
      ]
     },
     "execution_count": 39,
     "metadata": {},
     "output_type": "execute_result"
    }
   ],
   "source": [
    "x = ma.array([-1, 1, 0, 2, 3], mask=[0, 0, 0, 0, 1])\n",
    "np.log(x)"
   ]
  },
  {
   "cell_type": "markdown",
   "metadata": {},
   "source": [
    "# 示例\n",
    "## 利用特殊值表示缺失值\n",
    "***\n",
    "现在有一个列表`x`，其中用-9999.表示缺失值。我们想要计算这些数值的平均数并对其进行均值分析（每个值距离均值的偏差）:"
   ]
  },
  {
   "cell_type": "code",
   "execution_count": 40,
   "metadata": {},
   "outputs": [
    {
     "name": "stdout",
     "output_type": "stream",
     "text": [
      "掩码数组的均值为：2.0\n",
      "每个值与均值的差值为：[-2.0 -1.0 -- 1.0 2.0]\n",
      "每个值与均值的差值为：[-2.0 -1.0 -- 1.0 2.0]\n"
     ]
    }
   ],
   "source": [
    "import numpy.ma as ma\n",
    "x = [0.,1.,-9999.,3.,4.]\n",
    "mx = ma.masked_values (x, -9999.)\n",
    "print('掩码数组的均值为：{}'.format(mx.mean()))\n",
    "print('每个值与均值的差值为：{}'.format(mx - mx.mean()))\n",
    "print('每个值与均值的差值为：{}'.format(mx.anom()))"
   ]
  },
  {
   "cell_type": "markdown",
   "metadata": {},
   "source": [
    "## 对缺失值进行填充\n",
    "***\n",
    "假设我们现在相对上一个数组进行打印，其中缺失值以均值进行替代。"
   ]
  },
  {
   "cell_type": "code",
   "execution_count": 41,
   "metadata": {},
   "outputs": [
    {
     "name": "stdout",
     "output_type": "stream",
     "text": [
      "用均值填充缺失值后的结果：[0. 1. 2. 3. 4.]\n"
     ]
    }
   ],
   "source": [
    "print('用均值填充缺失值后的结果：{}'.format(mx.filled(mx.mean())))"
   ]
  },
  {
   "cell_type": "markdown",
   "metadata": {},
   "source": [
    "## 数值计算\n",
    "在掩码数组中，我们无需担心缺失值便可进行数值计算，例如分母为0，对复数求平方根等等:"
   ]
  },
  {
   "cell_type": "code",
   "execution_count": 42,
   "metadata": {},
   "outputs": [
    {
     "name": "stdout",
     "output_type": "stream",
     "text": [
      "[1.0 -- -- 1.0 -- --]\n"
     ]
    },
    {
     "name": "stderr",
     "output_type": "stream",
     "text": [
      "D:\\Users\\wuzhe\\Anaconda3\\lib\\site-packages\\ipykernel_launcher.py:4: RuntimeWarning: invalid value encountered in sqrt\n",
      "  after removing the cwd from sys.path.\n"
     ]
    }
   ],
   "source": [
    "import numpy as np, numpy.ma as ma\n",
    "x = ma.array([1., -1., 3., 4., 5., 6.], mask=[0,0,0,0,1,0])\n",
    "y = ma.array([1., 2., 0., 4., 5., 6.], mask=[0,0,0,0,0,1])\n",
    "print(np.sqrt(x/y))"
   ]
  },
  {
   "cell_type": "markdown",
   "metadata": {},
   "source": [
    "输出结果中有四个值为无效值，第一个是因为对负数取平方根，第二个是因为除0，最后两个是因为输入值被掩码。    \n",
    "## 忽略极端值\n",
    "***\n",
    "假设我们有一个数组`d`，其元素为0到1之间随机的浮点数。我们想对其`[0.1, 0.9]`区间范围内的值取平均:"
   ]
  },
  {
   "cell_type": "code",
   "execution_count": 43,
   "metadata": {},
   "outputs": [
    {
     "name": "stdout",
     "output_type": "stream",
     "text": [
      "0.46533658283140283\n"
     ]
    }
   ],
   "source": [
    "d = np.random.random(size=100)\n",
    "print(ma.masked_outside(d, 0.1, 0.9).mean())"
   ]
  }
 ],
 "metadata": {
  "kernelspec": {
   "display_name": "Python (base)",
   "language": "python",
   "name": "base"
  },
  "language_info": {
   "codemirror_mode": {
    "name": "ipython",
    "version": 3
   },
   "file_extension": ".py",
   "mimetype": "text/x-python",
   "name": "python",
   "nbconvert_exporter": "python",
   "pygments_lexer": "ipython3",
   "version": "3.6.4"
  },
  "latex_envs": {
   "LaTeX_envs_menu_present": true,
   "autoclose": false,
   "autocomplete": true,
   "bibliofile": "biblio.bib",
   "cite_by": "apalike",
   "current_citInitial": 1,
   "eqLabelWithNumbers": true,
   "eqNumInitial": 1,
   "hotkeys": {
    "equation": "Ctrl-E",
    "itemize": "Ctrl-I"
   },
   "labels_anchors": false,
   "latex_user_defs": false,
   "report_style_numbering": false,
   "user_envs_cfg": false
  },
  "toc": {
   "base_numbering": 1,
   "nav_menu": {},
   "number_sections": true,
   "sideBar": true,
   "skip_h1_title": false,
   "title_cell": "Table of Contents",
   "title_sidebar": "Contents",
   "toc_cell": false,
   "toc_position": {},
   "toc_section_display": true,
   "toc_window_display": false
  }
 },
 "nbformat": 4,
 "nbformat_minor": 2
}
