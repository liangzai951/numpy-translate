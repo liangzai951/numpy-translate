{
 "cells": [
  {
   "cell_type": "markdown",
   "metadata": {},
   "source": [
    "# [numpy.add](https://docs.scipy.org/doc/numpy/reference/generated/numpy.add.html)\n",
    "* 用例:    \n",
    "**numpy.add**(x1, x2, /, out=None, *, where=True, casting='same_kind', order='K', dtype=None, subok=True[, signature, extobj]) = <ufunc 'add'>\n",
    "\n",
    "* 功能:     \n",
    "两个数组对应位置的元素求和。\n",
    "\n",
    "* 参数   \n",
    "\n",
    "| 变量名 | 数据类型 | 功能 |\n",
    "|:---:|:---:|:---:|\n",
    "| x1,x2 | 数组型变量 | 用于求和的数组。如果`x1.shape != x2.shape`，它们必须扩充到同样的维度（此维度也等于返回结果的维度）。 |\n",
    "| out | n维数组，None，或者多维数组组成的元组，可选参数 | 指定结果存储的位置。若提供此参数，其必须与输入数组扩充后的维度保持一致。<br>如果不提供此参数或者此参数为None，返回一个新建的数组。若此参数为元组，其长度和输出值的个数保持一致。</br> |\n",
    "| where | 数组型变量，可选参数 | 此参数用默认值即可。 |\n",
    "\n",
    "* 返回值\n",
    "\n",
    "| 变量名 | 数据类型 | 功能 |\n",
    "|:---:|:---:|:---:|\n",
    "| add | n维数组或者是标量 | 将x1和x2中对应位置的元素相加。如果x1和x2为标量，那么返回值也为标量。 |   \n",
    "\n",
    "* 备注\n",
    "***\n",
    "此函数的运算结果和`x1 + x2`一致。  \n",
    "\n",
    "* 示例:"
   ]
  },
  {
   "cell_type": "code",
   "execution_count": 1,
   "metadata": {},
   "outputs": [
    {
     "name": "stdout",
     "output_type": "stream",
     "text": [
      "标量相加的结果：5.0\n",
      "向量相加的结果：\n",
      "[[ 0.  2.  4.]\n",
      " [ 3.  5.  7.]\n",
      " [ 6.  8. 10.]]\n"
     ]
    }
   ],
   "source": [
    "import numpy as np\n",
    "print('标量相加的结果：{}'.format(np.add(1.0, 4.0)))\n",
    "x1 = np.arange(9.0).reshape((3, 3))\n",
    "x2 = np.arange(3.0)\n",
    "# 会将x2复制三行变为3*3二维数组再相加\n",
    "print('向量相加的结果：\\n{}'.format(np.add(x1, x2)))"
   ]
  }
 ],
 "metadata": {
  "kernelspec": {
   "display_name": "Python (base)",
   "language": "python",
   "name": "base"
  },
  "language_info": {
   "codemirror_mode": {
    "name": "ipython",
    "version": 3
   },
   "file_extension": ".py",
   "mimetype": "text/x-python",
   "name": "python",
   "nbconvert_exporter": "python",
   "pygments_lexer": "ipython3",
   "version": "3.6.4"
  },
  "latex_envs": {
   "LaTeX_envs_menu_present": true,
   "autoclose": false,
   "autocomplete": true,
   "bibliofile": "biblio.bib",
   "cite_by": "apalike",
   "current_citInitial": 1,
   "eqLabelWithNumbers": true,
   "eqNumInitial": 1,
   "hotkeys": {
    "equation": "Ctrl-E",
    "itemize": "Ctrl-I"
   },
   "labels_anchors": false,
   "latex_user_defs": false,
   "report_style_numbering": false,
   "user_envs_cfg": false
  },
  "toc": {
   "base_numbering": 1,
   "nav_menu": {},
   "number_sections": true,
   "sideBar": true,
   "skip_h1_title": false,
   "title_cell": "Table of Contents",
   "title_sidebar": "Contents",
   "toc_cell": false,
   "toc_position": {},
   "toc_section_display": true,
   "toc_window_display": false
  }
 },
 "nbformat": 4,
 "nbformat_minor": 2
}
