{
 "cells": [
  {
   "cell_type": "markdown",
   "metadata": {},
   "source": [
    "# [广播](https://howtothink.readthedocs.io/en/latest/PvL_06.html)\n",
    "Numpy中有很多强大的功能，广播便是其中之一。广播能帮助你对两个不同维度的数组执行操作。例如:     "
   ]
  },
  {
   "cell_type": "code",
   "execution_count": 1,
   "metadata": {},
   "outputs": [
    {
     "data": {
      "text/plain": [
       "array([[  0, 100],\n",
       "       [ 20, 300],\n",
       "       [ 40, 500]])"
      ]
     },
     "execution_count": 1,
     "metadata": {},
     "output_type": "execute_result"
    }
   ],
   "source": [
    "import numpy as np\n",
    "a = np.array([\n",
    "    [0, 1],\n",
    "    [2, 3],\n",
    "    [4, 5],\n",
    "    ])\n",
    "b = np.array([10, 100])\n",
    "a * b"
   ]
  },
  {
   "cell_type": "markdown",
   "metadata": {},
   "source": [
    "不难发现，数组`a`和`b`的维度并不一致。为了让他们进行计算，Numpy会将`b`数组在第二维度上进行拉伸，这个过程就像把它复制了三次一样。当这些过程执行完毕之后，再对两个数组对应位置的元素执行运算操作。     \n",
    "广播中有这样一条规则，**只有维度为`1`的方向可以被拉伸**（如果一个数组仅有一维，为了将其进行广播，其他维度均会被置为`1`）。上述示例中数组`b`就是一个一维数组，并且`b.shape=(2,)`。为了将`b`的维度广播到二维，使其与数组`a`保持一致，Numpy会给`b`数组添加一个值为`1`的维度。`b`数组现在每一维的长度为`b.shape=(1, 2)`。这样子，新的维度就可以被拉伸三次，从而使`b`的维度与`a`的维度保持一致`b.shape=(3, 2)`。     \n",
    "另外一条规则是**Numpy会对广播的维度进行比对**。为了对两个数组进行计算，任何不一致的维度都必须被拉伸到同样的值。但是，根据第一条规则，只有维度为`1`的方向可以被拉伸。这意味着一些维度是不能被广播的，若对不为`1`的维度进行广播，Numpy将报错。"
   ]
  },
  {
   "cell_type": "code",
   "execution_count": 2,
   "metadata": {},
   "outputs": [
    {
     "name": "stdout",
     "output_type": "stream",
     "text": [
      "c数组的形状为：(2, 3)， b数组的形状为：(2,)\n"
     ]
    },
    {
     "ename": "ValueError",
     "evalue": "operands could not be broadcast together with shapes (2,3) (2,) ",
     "output_type": "error",
     "traceback": [
      "\u001b[1;31m---------------------------------------------------------------------------\u001b[0m",
      "\u001b[1;31mValueError\u001b[0m                                Traceback (most recent call last)",
      "\u001b[1;32m<ipython-input-2-8d2f3c424ed9>\u001b[0m in \u001b[0;36m<module>\u001b[1;34m\u001b[0m\n\u001b[0;32m      5\u001b[0m \u001b[0mb\u001b[0m \u001b[1;33m=\u001b[0m \u001b[0mnp\u001b[0m\u001b[1;33m.\u001b[0m\u001b[0marray\u001b[0m\u001b[1;33m(\u001b[0m\u001b[1;33m[\u001b[0m\u001b[1;36m10\u001b[0m\u001b[1;33m,\u001b[0m \u001b[1;36m100\u001b[0m\u001b[1;33m]\u001b[0m\u001b[1;33m)\u001b[0m\u001b[1;33m\u001b[0m\u001b[0m\n\u001b[0;32m      6\u001b[0m \u001b[0mprint\u001b[0m\u001b[1;33m(\u001b[0m\u001b[1;34m'c数组的形状为：{}， b数组的形状为：{}'\u001b[0m\u001b[1;33m.\u001b[0m\u001b[0mformat\u001b[0m\u001b[1;33m(\u001b[0m\u001b[0mc\u001b[0m\u001b[1;33m.\u001b[0m\u001b[0mshape\u001b[0m\u001b[1;33m,\u001b[0m \u001b[0mb\u001b[0m\u001b[1;33m.\u001b[0m\u001b[0mshape\u001b[0m\u001b[1;33m)\u001b[0m\u001b[1;33m)\u001b[0m\u001b[1;33m\u001b[0m\u001b[0m\n\u001b[1;32m----> 7\u001b[1;33m \u001b[0mc\u001b[0m \u001b[1;33m*\u001b[0m \u001b[0mb\u001b[0m\u001b[1;33m\u001b[0m\u001b[0m\n\u001b[0m",
      "\u001b[1;31mValueError\u001b[0m: operands could not be broadcast together with shapes (2,3) (2,) "
     ]
    }
   ],
   "source": [
    "c = np.array([\n",
    "    [0, 1, 2],\n",
    "    [3, 4, 5],\n",
    "    ])\n",
    "b = np.array([10, 100])\n",
    "print('c数组的形状为：{}， b数组的形状为：{}'.format(c.shape, b.shape))\n",
    "c * b"
   ]
  },
  {
   "cell_type": "markdown",
   "metadata": {},
   "source": [
    "为什么会报错呢？我们发现其原因是这样子的：首先，Numpy会给`b`数组添加一个维度，使其形状变为`b.shape=(1, 2)`。此时，`b`数组和`c`数组的最后一维大小分别为`2`和`3`。然后，Numpy会对这两个值进行对比并发现其不一致。由于这两个维度值均不为`1`（不能对其进行拉伸），此时，Numpy会终止此计算过程并给出报错。      \n",
    "要想对上例中的数组`c`和数组`b`做乘积运算，我们有如下解决方案：指定Numpy在`b`数组的第二维度上进行广播。通过使用`None`来索引第二个维度便可实现此功能。此时，`b`的形状会变为`b.shape=(2, 1)`。这样子`b`数组就可以广播到与`c`数组同样的维度。"
   ]
  },
  {
   "cell_type": "code",
   "execution_count": 3,
   "metadata": {},
   "outputs": [
    {
     "data": {
      "text/plain": [
       "array([[  0,  10,  20],\n",
       "       [300, 400, 500]])"
      ]
     },
     "execution_count": 3,
     "metadata": {},
     "output_type": "execute_result"
    }
   ],
   "source": [
    "c = np.array([\n",
    "    [0, 1, 2],\n",
    "    [3, 4, 5],\n",
    "    ])\n",
    "b = np.array([10, 100])\n",
    "c * b[:, None]"
   ]
  },
  {
   "cell_type": "markdown",
   "metadata": {},
   "source": [
    "在[tutorial of Numpy broadcasting rules](http://scipy.github.io/old-wiki/pages/EricsBroadcastingDoc)中有对于上述规则的可视化解释，并提供了许多很好的例子。"
   ]
  }
 ],
 "metadata": {
  "kernelspec": {
   "display_name": "Python (base)",
   "language": "python",
   "name": "base"
  },
  "language_info": {
   "codemirror_mode": {
    "name": "ipython",
    "version": 3
   },
   "file_extension": ".py",
   "mimetype": "text/x-python",
   "name": "python",
   "nbconvert_exporter": "python",
   "pygments_lexer": "ipython3",
   "version": "3.6.4"
  },
  "latex_envs": {
   "LaTeX_envs_menu_present": true,
   "autoclose": false,
   "autocomplete": true,
   "bibliofile": "biblio.bib",
   "cite_by": "apalike",
   "current_citInitial": 1,
   "eqLabelWithNumbers": true,
   "eqNumInitial": 1,
   "hotkeys": {
    "equation": "Ctrl-E",
    "itemize": "Ctrl-I"
   },
   "labels_anchors": false,
   "latex_user_defs": false,
   "report_style_numbering": false,
   "user_envs_cfg": false
  },
  "toc": {
   "base_numbering": 1,
   "nav_menu": {},
   "number_sections": true,
   "sideBar": true,
   "skip_h1_title": false,
   "title_cell": "Table of Contents",
   "title_sidebar": "Contents",
   "toc_cell": false,
   "toc_position": {},
   "toc_section_display": true,
   "toc_window_display": false
  }
 },
 "nbformat": 4,
 "nbformat_minor": 2
}
