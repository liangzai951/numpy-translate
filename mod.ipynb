{
 "cells": [
  {
   "cell_type": "markdown",
   "metadata": {},
   "source": [
    "# [numpy.mod](https://docs.scipy.org/doc/numpy/reference/generated/numpy.mod.html)\n",
    "* 用例:    \n",
    "**numpy.mod**(x1, x2, /, out=None, *, where=True, casting='same_kind', order='K', dtype=None, subok=True[, signature, extobj]) = <ufunc 'remainder'>\n",
    "\n",
    "* 功能:     \n",
    "计算两数组对应位置元素的余数。     \n",
    "当对数组执行地板除`floor_divide`之后会有余数。`numpy.mod`和Python中取模运算符`x1 % x2`的计算结果相同，计算结果的符号和除数`x2`保持一致。在MATLAB中`mod`函数和Python中的`np.remainder`函数计算结果相同。     \n",
    "\n",
    "* 注意:    \n",
    "切忌将以下内容混淆:     \n",
    "    1. Python 3.7 中的`math.remainder`函数和C语言中的`remainder`函数计算的是`round(x1 / x2)`（四舍五入）的余数。\n",
    "    2. MATLAB中的`rem`函数和C语言中的`%`运算符计算的是`int(x1 / x2)`（向0取整）的余数。\n",
    "\n",
    "* 参数   \n",
    "\n",
    "| 变量名 | 数据类型 | 功能 |\n",
    "|:---:|:---:|:---:|\n",
    "| x1 | 数组型变量 | 被除数。 |\n",
    "| x2 | 数组型变量 | 除数。如果`x1.shape != x2.shape`，它们必须广播到相同维度（此维度也为输出结果的维度）。 |\n",
    "| out | n维数组，None，n维数组组成的元组，可选参数 | 结果的保存位置。若提供此参数，其维度必须和输入值广播后的维度保持一致。<br>若不提供此参数或参数值为None，返回新创建的数组。若此参数为元组，其长度和返回值的个数保持一致。</br> |\n",
    "| where | 数组型变量，可选参数 | 用默认值即可。 |\n",
    "\n",
    "* 返回值\n",
    "\n",
    "| 变量名 | 数据类型 | 功能 |\n",
    "|:---:|:---:|:---:|\n",
    "| y | n维数组 | `floor_divide(x1, x2)`商的余数。如果x1和x2均为标量那么y也为标量。 |   \n",
    "\n",
    "* 备注\n",
    "***\n",
    "当x1和x2均为整数组成的数组且x2为0时，该函数返回0。`mod`和`remainder`的计算结果一致。  \n",
    "\n",
    "* 示例:    "
   ]
  },
  {
   "cell_type": "code",
   "execution_count": 1,
   "metadata": {},
   "outputs": [
    {
     "name": "stdout",
     "output_type": "stream",
     "text": [
      "两个数组取模：[0 1]\n",
      "广播后取模：[0 1 2 3 4 0 1]\n",
      "当除数为0时：[0 0 0 0 0 0 0]\n",
      "当除数为负数时：-1\n"
     ]
    },
    {
     "name": "stderr",
     "output_type": "stream",
     "text": [
      "D:\\Users\\wuzhe\\Anaconda3\\lib\\site-packages\\ipykernel_launcher.py:4: RuntimeWarning: divide by zero encountered in remainder\n",
      "  after removing the cwd from sys.path.\n"
     ]
    }
   ],
   "source": [
    "import numpy as np\n",
    "print('两个数组取模：{}'.format(np.remainder([4, 7], [2, 3])))\n",
    "print('广播后取模：{}'.format(np.remainder(np.arange(7), 5)))\n",
    "print('当除数为0时：{}'.format(np.remainder(np.arange(7), 0)))\n",
    "print('当除数为负数时：{}'.format(np.remainder(5, -2)))"
   ]
  }
 ],
 "metadata": {
  "kernelspec": {
   "display_name": "Python (base)",
   "language": "python",
   "name": "base"
  },
  "language_info": {
   "codemirror_mode": {
    "name": "ipython",
    "version": 3
   },
   "file_extension": ".py",
   "mimetype": "text/x-python",
   "name": "python",
   "nbconvert_exporter": "python",
   "pygments_lexer": "ipython3",
   "version": "3.6.4"
  },
  "latex_envs": {
   "LaTeX_envs_menu_present": true,
   "autoclose": false,
   "autocomplete": true,
   "bibliofile": "biblio.bib",
   "cite_by": "apalike",
   "current_citInitial": 1,
   "eqLabelWithNumbers": true,
   "eqNumInitial": 1,
   "hotkeys": {
    "equation": "Ctrl-E",
    "itemize": "Ctrl-I"
   },
   "labels_anchors": false,
   "latex_user_defs": false,
   "report_style_numbering": false,
   "user_envs_cfg": false
  },
  "toc": {
   "base_numbering": 1,
   "nav_menu": {},
   "number_sections": true,
   "sideBar": true,
   "skip_h1_title": false,
   "title_cell": "Table of Contents",
   "title_sidebar": "Contents",
   "toc_cell": false,
   "toc_position": {},
   "toc_section_display": true,
   "toc_window_display": false
  }
 },
 "nbformat": 4,
 "nbformat_minor": 2
}
