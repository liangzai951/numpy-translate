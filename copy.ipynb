{
 "cells": [
  {
   "cell_type": "markdown",
   "metadata": {},
   "source": [
    "# [numpy.copy](https://docs.scipy.org/doc/numpy-1.13.0/reference/generated/numpy.copy.html)\n",
    "* 用例:    \n",
    "**numpy.copy**(a, order='K')\n",
    "\n",
    "* 功能:     \n",
    "返回给定数组的深拷贝。\n",
    "\n",
    "* 参数   \n",
    "\n",
    "| 变量名 | 数据类型 | 功能 |\n",
    "|:---:|:---:|:---:|\n",
    "| a | 数组型变量 | 输入数据 |\n",
    "| order | {'C', 'F', 'A', 'K'}，可选参数 | 控制拷贝数组在内存中的存储顺序。'C'表示C顺序，'F'表示F顺序，如果输入数组是连续值，那么'A'亦为F顺序，若输入数组不是连续值，那么<br>'A'为C顺序。'K'表示拷贝数组和原始数组的存储顺序尽可能一致。（注意：这个函数和`ndarray.copy`的功能很相似，只是order的默认值不同）</br> |\n",
    "\n",
    "* 返回值\n",
    "\n",
    "| 变量名 | 数据类型 | 功能 |\n",
    "|:---:|:---:|:---:|\n",
    "| arr | n维数组 | a数组的深拷贝数组 |   \n",
    "\n",
    "* 备注\n",
    "***\n",
    "这个方法和`np.array(a, copy=True)`是一致的  \n",
    " \n",
    "\n",
    "* 示例: \n",
    "\n",
    "创建一个数组x，对其进行浅拷贝赋值给y，对其进行深拷贝赋值给z:"
   ]
  },
  {
   "cell_type": "code",
   "execution_count": 1,
   "metadata": {},
   "outputs": [],
   "source": [
    "import numpy as np\n",
    "x = np.array([1, 2, 3])\n",
    "y = x\n",
    "z = np.copy(x)"
   ]
  },
  {
   "cell_type": "markdown",
   "metadata": {},
   "source": [
    "注意：当我们对x进行修改时，y也会发生改变，而z不会发生改变"
   ]
  },
  {
   "cell_type": "code",
   "execution_count": 2,
   "metadata": {},
   "outputs": [
    {
     "name": "stdout",
     "output_type": "stream",
     "text": [
      "此时，x的0位置元素和y的0位置元素还相同吗：True\n",
      "此时，x的0位置元素和z的0位置元素还相同吗：False\n"
     ]
    }
   ],
   "source": [
    "x[0] = 10\n",
    "print('此时，x的0位置元素和y的0位置元素还相同吗：{}'.format(x[0] == y[0]))\n",
    "print('此时，x的0位置元素和z的0位置元素还相同吗：{}'.format(x[0] == z[0]))"
   ]
  }
 ],
 "metadata": {
  "kernelspec": {
   "display_name": "Python (base)",
   "language": "python",
   "name": "base"
  },
  "language_info": {
   "codemirror_mode": {
    "name": "ipython",
    "version": 3
   },
   "file_extension": ".py",
   "mimetype": "text/x-python",
   "name": "python",
   "nbconvert_exporter": "python",
   "pygments_lexer": "ipython3",
   "version": "3.6.4"
  },
  "latex_envs": {
   "LaTeX_envs_menu_present": true,
   "autoclose": false,
   "autocomplete": true,
   "bibliofile": "biblio.bib",
   "cite_by": "apalike",
   "current_citInitial": 1,
   "eqLabelWithNumbers": true,
   "eqNumInitial": 1,
   "hotkeys": {
    "equation": "Ctrl-E",
    "itemize": "Ctrl-I"
   },
   "labels_anchors": false,
   "latex_user_defs": false,
   "report_style_numbering": false,
   "user_envs_cfg": false
  },
  "toc": {
   "base_numbering": 1,
   "nav_menu": {},
   "number_sections": true,
   "sideBar": true,
   "skip_h1_title": false,
   "title_cell": "Table of Contents",
   "title_sidebar": "Contents",
   "toc_cell": false,
   "toc_position": {},
   "toc_section_display": true,
   "toc_window_display": false
  }
 },
 "nbformat": 4,
 "nbformat_minor": 2
}
