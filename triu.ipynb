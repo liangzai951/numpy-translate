{
 "cells": [
  {
   "cell_type": "markdown",
   "metadata": {},
   "source": [
    "# [numpy.triu](https://docs.scipy.org/doc/numpy/reference/generated/numpy.triu.html#numpy.triu)\n",
    "* 用例:    \n",
    " **numpy.triu**(m, k=0)\n",
    "\n",
    "* 功能:     \n",
    "返回数组的上三角部分。     \n",
    "对矩阵进行拷贝，并将第k条对角线下方的元素全部置零。     \n",
    "关于数组下三角的相关知识[参见文档](https://blog.csdn.net/wzy628810/article/details/104043768)。\n",
    "\n",
    "* 示例:    "
   ]
  },
  {
   "cell_type": "code",
   "execution_count": 1,
   "metadata": {},
   "outputs": [
    {
     "name": "stdout",
     "output_type": "stream",
     "text": [
      "数组的上三角部分：\n",
      "[[ 1  2  3]\n",
      " [ 4  5  6]\n",
      " [ 0  8  9]\n",
      " [ 0  0 12]]\n"
     ]
    }
   ],
   "source": [
    "import numpy as np\n",
    "print('数组的上三角部分：\\n{}'.format(np.triu([[1,2,3],[4,5,6],[7,8,9],[10,11,12]], -1)))"
   ]
  }
 ],
 "metadata": {
  "kernelspec": {
   "display_name": "Python (base)",
   "language": "python",
   "name": "base"
  },
  "language_info": {
   "codemirror_mode": {
    "name": "ipython",
    "version": 3
   },
   "file_extension": ".py",
   "mimetype": "text/x-python",
   "name": "python",
   "nbconvert_exporter": "python",
   "pygments_lexer": "ipython3",
   "version": "3.6.4"
  }
 },
 "nbformat": 4,
 "nbformat_minor": 4
}
