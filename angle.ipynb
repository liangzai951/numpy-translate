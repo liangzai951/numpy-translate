{
 "cells": [
  {
   "cell_type": "markdown",
   "metadata": {},
   "source": [
    "# [numpy.angle](https://docs.scipy.org/doc/numpy-1.13.0/reference/generated/numpy.angle.html)\n",
    "* 用例:    \n",
    "**numpy.angle**(z, deg=0)\n",
    "\n",
    "* 功能:     \n",
    "计算复数的辐角主值。\n",
    "\n",
    "* 参数   \n",
    "\n",
    "| 变量名 | 数据类型 | 功能 |\n",
    "|:---:|:---:|:---:|\n",
    "| z | 数组型变量 | 一个复数或者复数组成的列表。 |\n",
    "| deg | bool型变量，可选参数 | 若为True，返回值采用角度制；若为False（默认），返回值采用弧度制。 |\n",
    "\n",
    "* 返回值\n",
    "\n",
    "| 变量名 | 数据类型 | 功能 |\n",
    "|:---:|:---:|:---:|\n",
    "| angle | n维数组或标量 | 复平面上从正实半轴出发沿逆时针方向到复数所在点走过的角度，默认数值类型为numpy.float64。 |  \n",
    "\n",
    "* 示例:    "
   ]
  },
  {
   "cell_type": "code",
   "execution_count": 1,
   "metadata": {},
   "outputs": [
    {
     "name": "stdout",
     "output_type": "stream",
     "text": [
      "结果用弧度制表示：[0.         1.57079633 0.78539816]\n",
      "结果用角度制表示：45.0\n"
     ]
    }
   ],
   "source": [
    "import numpy as np\n",
    "print('结果用弧度制表示：{}'.format(np.angle([1.0, 1.0j, 1+1j])))\n",
    "print('结果用角度制表示：{}'.format(np.angle(1+1j, deg=True)))"
   ]
  }
 ],
 "metadata": {
  "kernelspec": {
   "display_name": "Python (base)",
   "language": "python",
   "name": "base"
  },
  "language_info": {
   "codemirror_mode": {
    "name": "ipython",
    "version": 3
   },
   "file_extension": ".py",
   "mimetype": "text/x-python",
   "name": "python",
   "nbconvert_exporter": "python",
   "pygments_lexer": "ipython3",
   "version": "3.6.4"
  },
  "latex_envs": {
   "LaTeX_envs_menu_present": true,
   "autoclose": false,
   "autocomplete": true,
   "bibliofile": "biblio.bib",
   "cite_by": "apalike",
   "current_citInitial": 1,
   "eqLabelWithNumbers": true,
   "eqNumInitial": 1,
   "hotkeys": {
    "equation": "Ctrl-E",
    "itemize": "Ctrl-I"
   },
   "labels_anchors": false,
   "latex_user_defs": false,
   "report_style_numbering": false,
   "user_envs_cfg": false
  },
  "toc": {
   "base_numbering": 1,
   "nav_menu": {},
   "number_sections": true,
   "sideBar": true,
   "skip_h1_title": false,
   "title_cell": "Table of Contents",
   "title_sidebar": "Contents",
   "toc_cell": false,
   "toc_position": {},
   "toc_section_display": true,
   "toc_window_display": false
  }
 },
 "nbformat": 4,
 "nbformat_minor": 2
}
