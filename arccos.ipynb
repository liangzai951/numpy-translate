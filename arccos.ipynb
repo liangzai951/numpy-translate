{
 "cells": [
  {
   "cell_type": "markdown",
   "metadata": {},
   "source": [
    "# [numpy.arccos](https://docs.scipy.org/doc/numpy-1.10.0/reference/generated/numpy.arccos.html)\n",
    "* 用例:    \n",
    "**numpy.arccos**(x[, out]) = <ufunc 'arccos'>\n",
    "\n",
    "* 功能:     \n",
    "对数组中的每个元素求其反余弦值。如果`y = cos(x)`，那么`x = arccos(y)`。      \n",
    "\n",
    "* 参数   \n",
    "\n",
    "| 变量名 | 数据类型 | 功能 |\n",
    "|:---:|:---:|:---:|\n",
    "| x | 数组型变量 | 单位圆上的x坐标。对于实数的取值范围为`[-1, 1]`。 |\n",
    "| out | n维数组，None，n维数组组成的元组，<br>可选参数</br> | 指定结果存储的位置。若提供此参数，其维度必须与输入数组广播后的维度一致。<br>若不提供此参数或参数值为None，将返回新开辟的数组。若此参数为元组，其长度必须和返回值的个数保持一致。</br> |\n",
    "\n",
    "* 返回值\n",
    "\n",
    "| 变量名 | 数据类型 | 功能 |\n",
    "|:---:|:---:|:---:|\n",
    "| angle | n维数组 | 数组中每个元素的反余弦值，取值范围为`[0, pi]`。如果x为标量，那么返回值也为标量。如果x为数组，那么返回数组的长度和x的长度保持一致。 |   \n",
    "\n",
    "* 备注\n",
    "`arccos`是一个多值函数：对于每一个x有无穷多个z可以使等式`cos(z) = x`成立。反余弦函数的返回值z的实部取值范围为[0, pi]。   \n",
    "若输入数值类型为实数，`arccos`通常返回实数。若输入值非实数或无穷大，函数将返回`nan`并给出浮点错误。   \n",
    "反余弦函数也被记为`acos`或`cos^-1`。\n",
    "\n",
    "* 示例:    \n",
    "在反余弦函数中，`arccos(1)=0`， `arccos(-1)=pi`:"
   ]
  },
  {
   "cell_type": "code",
   "execution_count": 1,
   "metadata": {},
   "outputs": [
    {
     "name": "stdout",
     "output_type": "stream",
     "text": [
      "数组的反余弦值：[0.         3.14159265]\n"
     ]
    }
   ],
   "source": [
    "import numpy as np\n",
    "print('数组的反余弦值：{}'.format(np.arccos([1, -1])))"
   ]
  },
  {
   "cell_type": "markdown",
   "metadata": {},
   "source": [
    "    绘制反余弦函数图像:"
   ]
  },
  {
   "cell_type": "code",
   "execution_count": 3,
   "metadata": {},
   "outputs": [
    {
     "data": {
      "image/png": "[encoded data removed]",
      "text/plain": [
       "<Figure size 432x288 with 1 Axes>"
      ]
     },
     "metadata": {
      "needs_background": "light"
     },
     "output_type": "display_data"
    }
   ],
   "source": [
    "import matplotlib.pyplot as plt\n",
    "x = np.linspace(-1, 1, num=100)\n",
    "plt.plot(x, np.arccos(x), c='b')\n",
    "plt.axis('tight')\n",
    "plt.show()"
   ]
  }
 ],
 "metadata": {
  "kernelspec": {
   "display_name": "Python (base)",
   "language": "python",
   "name": "base"
  },
  "language_info": {
   "codemirror_mode": {
    "name": "ipython",
    "version": 3
   },
   "file_extension": ".py",
   "mimetype": "text/x-python",
   "name": "python",
   "nbconvert_exporter": "python",
   "pygments_lexer": "ipython3",
   "version": "3.6.4"
  },
  "latex_envs": {
   "LaTeX_envs_menu_present": true,
   "autoclose": false,
   "autocomplete": true,
   "bibliofile": "biblio.bib",
   "cite_by": "apalike",
   "current_citInitial": 1,
   "eqLabelWithNumbers": true,
   "eqNumInitial": 1,
   "hotkeys": {
    "equation": "Ctrl-E",
    "itemize": "Ctrl-I"
   },
   "labels_anchors": false,
   "latex_user_defs": false,
   "report_style_numbering": false,
   "user_envs_cfg": false
  },
  "toc": {
   "base_numbering": 1,
   "nav_menu": {},
   "number_sections": true,
   "sideBar": true,
   "skip_h1_title": false,
   "title_cell": "Table of Contents",
   "title_sidebar": "Contents",
   "toc_cell": false,
   "toc_position": {},
   "toc_section_display": true,
   "toc_window_display": false
  }
 },
 "nbformat": 4,
 "nbformat_minor": 2
}
