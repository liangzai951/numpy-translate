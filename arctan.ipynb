{
 "cells": [
  {
   "cell_type": "markdown",
   "metadata": {},
   "source": [
    "# [numpy.arctan](https://docs.scipy.org/doc/numpy-1.13.0/reference/generated/numpy.arctan.html)\n",
    "* 用例:    \n",
    "**numpy.arctan**(x, /, out=None, *, where=True, casting='same_kind', order='K', dtype=None, subok=True[, signature, extobj]) = <ufunc 'arctan'>\n",
    "\n",
    "* 功能:     \n",
    "对数组中的每一个元素求其反正切值。它是正切函数的反函数，所以如果`y = tan(x)`，那么`x = arctan(y)`。      \n",
    "\n",
    "* 参数   \n",
    "\n",
    "| 变量名 | 数据类型 | 功能 |\n",
    "|:---:|:---:|:---:|\n",
    "| x | 数组型变量 |  |\n",
    "| out | n维数组，None，n维数组组成的元组，<br>可选参数</br> | 指定结果存储的位置。若提供此参数，其维度必须与输入数组广播后的维度一致。<br>若不提供此参数或参数值为None，将返回新开辟的数组。若此参数为元组，其长度必须和返回值的个数保持一致。</br> |\n",
    "| where | 数组型变量，可选参数 | `True`用于标记进行函数计算的位置，`False`用于标记此位置不进行函数计算，直接将输入值原样返回，通常用默认值即可。 |\n",
    "\n",
    "* 返回值\n",
    "\n",
    "| 变量名 | 数据类型 | 功能 |\n",
    "|:---:|:---:|:---:|\n",
    "| out | n维数组 | 其维度和x一致。其实数部分的取值范围为`[-pi/2, pi/2]`(`arctan(+/-inf)`的返回值为`+/-pi/2`)。如果x为标量，那么返回值也为标量。 |   \n",
    "\n",
    "* 备注        \n",
    "`arctan`是一个多值函数：对于每一个x都有无穷多个z满足等式`tan(z) = x`。本函数仅返回实部落到闭区间`[-pi/2, pi/2]`范围内的计算结果。     \n",
    "若x的数值类型为实数，`arctan`的返回值通常也为实数。对于x中不能解析为实数或者无穷大的部分，本函数将返回`nan`，并给出浮点错误。       \n",
    "反正切函数也可以记作`atan`或`tan^{-1}`。\n",
    "\n",
    "* 示例:       \n",
    "`arctan(0)=0`并且`arctan(1)=pi/4`"
   ]
  },
  {
   "cell_type": "code",
   "execution_count": 1,
   "metadata": {},
   "outputs": [
    {
     "name": "stdout",
     "output_type": "stream",
     "text": [
      "对数组中的元素计算反正切值：[0.         0.78539816]\n",
      "pi/4的值为：0.7853981633974483\n"
     ]
    }
   ],
   "source": [
    "import numpy as np\n",
    "print('对数组中的元素计算反正切值：{}'.format(np.arctan([0, 1])))\n",
    "print('pi/4的值为：{}'.format(np.pi/4))"
   ]
  },
  {
   "cell_type": "markdown",
   "metadata": {},
   "source": [
    "    绘制反正切函数图像:"
   ]
  },
  {
   "cell_type": "code",
   "execution_count": 3,
   "metadata": {},
   "outputs": [
    {
     "data": {
      "image/png": "[encoded data removed]",
      "text/plain": [
       "<Figure size 432x288 with 1 Axes>"
      ]
     },
     "metadata": {
      "needs_background": "light"
     },
     "output_type": "display_data"
    }
   ],
   "source": [
    "import matplotlib.pyplot as plt\n",
    "x = np.linspace(-10, 10)\n",
    "plt.plot(x, np.arctan(x), c='b')\n",
    "plt.axis('tight')\n",
    "plt.show()"
   ]
  }
 ],
 "metadata": {
  "kernelspec": {
   "display_name": "Python (base)",
   "language": "python",
   "name": "base"
  },
  "language_info": {
   "codemirror_mode": {
    "name": "ipython",
    "version": 3
   },
   "file_extension": ".py",
   "mimetype": "text/x-python",
   "name": "python",
   "nbconvert_exporter": "python",
   "pygments_lexer": "ipython3",
   "version": "3.6.4"
  },
  "latex_envs": {
   "LaTeX_envs_menu_present": true,
   "autoclose": false,
   "autocomplete": true,
   "bibliofile": "biblio.bib",
   "cite_by": "apalike",
   "current_citInitial": 1,
   "eqLabelWithNumbers": true,
   "eqNumInitial": 1,
   "hotkeys": {
    "equation": "Ctrl-E",
    "itemize": "Ctrl-I"
   },
   "labels_anchors": false,
   "latex_user_defs": false,
   "report_style_numbering": false,
   "user_envs_cfg": false
  },
  "toc": {
   "base_numbering": 1,
   "nav_menu": {},
   "number_sections": true,
   "sideBar": true,
   "skip_h1_title": false,
   "title_cell": "Table of Contents",
   "title_sidebar": "Contents",
   "toc_cell": false,
   "toc_position": {},
   "toc_section_display": true,
   "toc_window_display": false
  }
 },
 "nbformat": 4,
 "nbformat_minor": 2
}
