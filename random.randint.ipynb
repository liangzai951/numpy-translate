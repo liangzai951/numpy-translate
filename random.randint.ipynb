{
 "cells": [
  {
   "cell_type": "markdown",
   "metadata": {},
   "source": [
    "# [numpy.random.randint](https://docs.scipy.org/doc/numpy-1.13.0/reference/generated/numpy.random.randint.html)\n",
    "* 用例:   \n",
    "**numpy.random.randint**(low, high=None, size=None, dtype='l')   \n",
    "\n",
    "* 功能:    \n",
    "返回low(包括)到high(不包括)之间的随机整数，即`[low, high)`。    \n",
    "从半开区间`[low, high)`中返回满足离散均匀分布的随机整数，这些数据需符合函数指定的数据类型。如果未指定high（即采用默认值None），那么结果将落到区间`[0, low)`。     \n",
    "* 参数   \n",
    "\n",
    "| 变量名 | 数据类型 | 功能 |\n",
    "|:---:|:---:|:---:|\n",
    "| low | 整数型数据 | 从分布中抽取的最小(有符号)整数(当`high=None`时，此参数比取值空间最大的整数大1) |\n",
    "| high | 整数型数据，可选参数 | 如果提供此参数，则其比取值空间最大的整数大1(如果`high=None`，请参见上面的解释) |\n",
    "| size | 整数或整数组成的元组，可选参数 | 用于指定返回值的维度，如果给定的维度是`(m, n, k)`，<br>那么将会抽取`m * n * k`个样本。此参数的默认值为None，在这种情况下仅返回一个值</br> |\n",
    "| dtype | 数据类型，可选参数 | 此参数用于指定返回值的数据类型。所有的数据类型由它们的名字指定，例如：‘int64’,‘int’等等，<br>所以不可以指定字节顺序，并且不同的环境下数值的精度有可能不相同。此参数的默认值为‘np.int’。</br> |    \n",
    "\n",
    "* 返回值\n",
    "\n",
    "| 变量名 | 数据类型 | 功能 |\n",
    "|:---:|:---:|:---:|\n",
    "| out | 整数或整数组成的n维数组 | 若指定size，则返回指定大小的服从离散均匀分布的随机整数。若size未指定，则会返回指定范围内的一个随机整数 |  \n",
    "\n",
    "* 示例"
   ]
  },
  {
   "cell_type": "code",
   "execution_count": 1,
   "metadata": {},
   "outputs": [
    {
     "name": "stdout",
     "output_type": "stream",
     "text": [
      "[1 0 0 1 1 1 1 0 0 0]\n",
      "[0 0 0 0 0 0 0 0 0 0]\n"
     ]
    }
   ],
   "source": [
    "import numpy as np\n",
    "print(np.random.randint(2, size=10))\n",
    "print(np.random.randint(1, size=10))"
   ]
  },
  {
   "cell_type": "markdown",
   "metadata": {},
   "source": [
    "生成[0, 4]之间2*4大小的数组"
   ]
  },
  {
   "cell_type": "code",
   "execution_count": 2,
   "metadata": {},
   "outputs": [
    {
     "data": {
      "text/plain": [
       "array([[0, 0, 1, 4],\n",
       "       [3, 4, 2, 4]])"
      ]
     },
     "execution_count": 2,
     "metadata": {},
     "output_type": "execute_result"
    }
   ],
   "source": [
    "np.random.randint(0, 5, size=(2, 4))"
   ]
  }
 ],
 "metadata": {
  "kernelspec": {
   "display_name": "Python (base)",
   "language": "python",
   "name": "base"
  },
  "language_info": {
   "codemirror_mode": {
    "name": "ipython",
    "version": 3
   },
   "file_extension": ".py",
   "mimetype": "text/x-python",
   "name": "python",
   "nbconvert_exporter": "python",
   "pygments_lexer": "ipython3",
   "version": "3.6.4"
  },
  "latex_envs": {
   "LaTeX_envs_menu_present": true,
   "autoclose": false,
   "autocomplete": true,
   "bibliofile": "biblio.bib",
   "cite_by": "apalike",
   "current_citInitial": 1,
   "eqLabelWithNumbers": true,
   "eqNumInitial": 1,
   "hotkeys": {
    "equation": "Ctrl-E",
    "itemize": "Ctrl-I"
   },
   "labels_anchors": false,
   "latex_user_defs": false,
   "report_style_numbering": false,
   "user_envs_cfg": false
  },
  "toc": {
   "base_numbering": 1,
   "nav_menu": {},
   "number_sections": true,
   "sideBar": true,
   "skip_h1_title": false,
   "title_cell": "Table of Contents",
   "title_sidebar": "Contents",
   "toc_cell": false,
   "toc_position": {},
   "toc_section_display": true,
   "toc_window_display": false
  }
 },
 "nbformat": 4,
 "nbformat_minor": 2
}
