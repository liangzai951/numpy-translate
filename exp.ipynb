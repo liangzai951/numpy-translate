{
 "cells": [
  {
   "cell_type": "markdown",
   "metadata": {},
   "source": [
    "# [numpy.exp](https://docs.scipy.org/doc/numpy-1.15.1/reference/generated/numpy.exp.html)\n",
    "* 用例:    \n",
    "**numpy.exp**(x, /, out=None, *, where=True, casting='same_kind', order='K', dtype=None, subok=True[, signature, extobj]) = <ufunc 'exp'>\n",
    "\n",
    "* 功能:     \n",
    "对输入数组的每个元素计算指数函数。      \n",
    "\n",
    "* 参数   \n",
    "\n",
    "| 变量名 | 数据类型 | 功能 |\n",
    "|:---:|:---:|:---:|\n",
    "| x | 数组型变量 | 输入数据。 |\n",
    "| out | n维数组，None，n维数组组成的元组，<br>可选参数</br> | 指定结果存储的位置。若提供此参数，其维度必须与输入数组广播后的维度一致。<br>若不提供此参数或参数值为None，将返回新开辟的数组。若此参数为元组，其长度必须和返回值的个数保持一致。</br> |\n",
    "| where | 数组型变量，可选参数 | `True`用于标记进行函数计算的位置，`False`用于标记此位置不进行函数计算，直接将输入值原样返回，通常用默认值即可。 |\n",
    "\n",
    "* 返回值\n",
    "\n",
    "| 变量名 | 数据类型 | 功能 |\n",
    "|:---:|:---:|:---:|\n",
    "| out | n维数组或标量 | 对x中每个元素求指数函数的计算结果。如果x为标量，那out也为标量。 |   \n",
    "\n",
    "* 备注      \n",
    "无理数`e`也被称为欧拉数，是自然对数的底数，其近似值为2.718281。`ln`（如果$x=\\ln y=\\log_e y$，那么$e^x=y$）。对于实数输入值，`exp(x)`的返回值通常为正数。      \n",
    "对于复数输入值`x = a + ib`，我们的计算公式为$e^x=e^ae^{ib}$。第一部分$e^a$为实部，其计算方法同上。第二部分$e^{ib}$也可写为$\\cos b+i\\sin b$。\n",
    "\n",
    "* 示例:    \n",
    "在复平面上绘制`exp(x)`的幅值和相位:"
   ]
  },
  {
   "cell_type": "code",
   "execution_count": 3,
   "metadata": {},
   "outputs": [
    {
     "data": {
      "image/png": "[encoded data removed]",
      "text/plain": [
       "<Figure size 432x288 with 2 Axes>"
      ]
     },
     "metadata": {
      "needs_background": "light"
     },
     "output_type": "display_data"
    }
   ],
   "source": [
    "import matplotlib.pyplot as plt\n",
    "import numpy as np\n",
    "plt.rcParams['font.family'] = ['sans-serif']\n",
    "plt.rcParams['font.sans-serif'] = ['SimHei']\n",
    "plt.rcParams['axes.unicode_minus'] = False \n",
    "x = np.linspace(-2*np.pi, 2*np.pi, 100)\n",
    "xx = x + 1j * x[:, np.newaxis]         # 复平面上的a + ib\n",
    "out = np.exp(xx)\n",
    "plt.subplot(121)\n",
    "plt.imshow(np.abs(out), extent=[-2*np.pi, 2*np.pi, -2*np.pi, 2*np.pi], cmap='gray')\n",
    "plt.title('exp(x)的幅值')\n",
    "plt.subplot(122)\n",
    "plt.imshow(np.angle(out), extent=[-2*np.pi, 2*np.pi, -2*np.pi, 2*np.pi], cmap='hsv')\n",
    "plt.title('exp(x)的相位')\n",
    "plt.show()"
   ]
  }
 ],
 "metadata": {
  "kernelspec": {
   "display_name": "Python (base)",
   "language": "python",
   "name": "base"
  },
  "language_info": {
   "codemirror_mode": {
    "name": "ipython",
    "version": 3
   },
   "file_extension": ".py",
   "mimetype": "text/x-python",
   "name": "python",
   "nbconvert_exporter": "python",
   "pygments_lexer": "ipython3",
   "version": "3.6.4"
  },
  "latex_envs": {
   "LaTeX_envs_menu_present": true,
   "autoclose": false,
   "autocomplete": true,
   "bibliofile": "biblio.bib",
   "cite_by": "apalike",
   "current_citInitial": 1,
   "eqLabelWithNumbers": true,
   "eqNumInitial": 1,
   "hotkeys": {
    "equation": "Ctrl-E",
    "itemize": "Ctrl-I"
   },
   "labels_anchors": false,
   "latex_user_defs": false,
   "report_style_numbering": false,
   "user_envs_cfg": false
  },
  "toc": {
   "base_numbering": 1,
   "nav_menu": {},
   "number_sections": true,
   "sideBar": true,
   "skip_h1_title": false,
   "title_cell": "Table of Contents",
   "title_sidebar": "Contents",
   "toc_cell": false,
   "toc_position": {},
   "toc_section_display": true,
   "toc_window_display": false
  }
 },
 "nbformat": 4,
 "nbformat_minor": 2
}
