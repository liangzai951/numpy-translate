{
 "cells": [
  {
   "cell_type": "markdown",
   "metadata": {},
   "source": [
    "# [numpy.arange](https://docs.scipy.org/doc/numpy-1.13.0/reference/generated/numpy.arange.html)\n",
    "* 用例:    \n",
    "**numpy.arange**([start, ]stop, [step, ]dtype=None)\n",
    "\n",
    "* 功能:     \n",
    "返回给定区间范围内间隔均匀的数值。   \n",
    "生成半闭区间范围`[start, stop)`内的数值（换句话说，取值范围包括区间的起始值而不包括区间的终止值）。对于整数参数而言，这个函数和Python内置函数`range`的功能是相同的。不同的是，`np.arange`的返回值为n维数组，而`range`的返回值为列表。     \n",
    "当使用非整数步长时，例如0.1，结果往往不一致。在这种情况下更推荐使用`linspace`。\n",
    "\n",
    "* 参数   \n",
    "\n",
    "| 变量名 | 数据类型 | 功能 |\n",
    "|:---:|:---:|:---:|\n",
    "| start | 数值型，可选参数 | 区间的起始值。区间包含此值，默认值为0 |\n",
    "| stop | 数值型 | 区间的终止值。区间不包含此值，除非在某些情况下，step不是整数，并且浮点数的舍入会影响最后一个数的取值。 |\n",
    "| step | 数值型，可选参数 | 两个数字之间的间隔。对于任何输出，此参数为相邻两个值之间的距离（`out[i+1] - out[i]`）。默认步长值为1。<br>如果指定步长值就必须指定区间的起始值start。</br> |\n",
    "| dtype | 数值类型 | 输出数组的数值类型。如果不给定`dtype`参数，函数通过其他的输入参数推断返回值的类型。 |\n",
    "\n",
    "* 返回值\n",
    "\n",
    "| 变量名 | 数据类型 | 功能 |\n",
    "|:---:|:---:|:---:|\n",
    "| arange | n维数组 | 均匀间隔数字组成的数组。对于浮点型参数，返回数组的长度为`ceil((stop - start)/step)`。由于浮点溢出，此规则可能导致输出的最后一个元素大于stop。 |   \n",
    "\n",
    "* 示例:"
   ]
  },
  {
   "cell_type": "code",
   "execution_count": 1,
   "metadata": {},
   "outputs": [
    {
     "data": {
      "text/plain": [
       "array([0, 1, 2])"
      ]
     },
     "execution_count": 1,
     "metadata": {},
     "output_type": "execute_result"
    }
   ],
   "source": [
    "import numpy as np\n",
    "np.arange(3)"
   ]
  },
  {
   "cell_type": "code",
   "execution_count": 2,
   "metadata": {},
   "outputs": [
    {
     "data": {
      "text/plain": [
       "array([0., 1., 2.])"
      ]
     },
     "execution_count": 2,
     "metadata": {},
     "output_type": "execute_result"
    }
   ],
   "source": [
    "np.arange(3.0)"
   ]
  },
  {
   "cell_type": "code",
   "execution_count": 3,
   "metadata": {},
   "outputs": [
    {
     "data": {
      "text/plain": [
       "array([3, 4, 5, 6])"
      ]
     },
     "execution_count": 3,
     "metadata": {},
     "output_type": "execute_result"
    }
   ],
   "source": [
    "np.arange(3, 7)"
   ]
  },
  {
   "cell_type": "code",
   "execution_count": 4,
   "metadata": {},
   "outputs": [
    {
     "data": {
      "text/plain": [
       "array([3, 5])"
      ]
     },
     "execution_count": 4,
     "metadata": {},
     "output_type": "execute_result"
    }
   ],
   "source": [
    "np.arange(3, 7, 2)"
   ]
  }
 ],
 "metadata": {
  "kernelspec": {
   "display_name": "Python (base)",
   "language": "python",
   "name": "base"
  },
  "language_info": {
   "codemirror_mode": {
    "name": "ipython",
    "version": 3
   },
   "file_extension": ".py",
   "mimetype": "text/x-python",
   "name": "python",
   "nbconvert_exporter": "python",
   "pygments_lexer": "ipython3",
   "version": "3.6.4"
  },
  "latex_envs": {
   "LaTeX_envs_menu_present": true,
   "autoclose": false,
   "autocomplete": true,
   "bibliofile": "biblio.bib",
   "cite_by": "apalike",
   "current_citInitial": 1,
   "eqLabelWithNumbers": true,
   "eqNumInitial": 1,
   "hotkeys": {
    "equation": "Ctrl-E",
    "itemize": "Ctrl-I"
   },
   "labels_anchors": false,
   "latex_user_defs": false,
   "report_style_numbering": false,
   "user_envs_cfg": false
  },
  "toc": {
   "base_numbering": 1,
   "nav_menu": {},
   "number_sections": true,
   "sideBar": true,
   "skip_h1_title": false,
   "title_cell": "Table of Contents",
   "title_sidebar": "Contents",
   "toc_cell": false,
   "toc_position": {},
   "toc_section_display": true,
   "toc_window_display": false
  }
 },
 "nbformat": 4,
 "nbformat_minor": 2
}
