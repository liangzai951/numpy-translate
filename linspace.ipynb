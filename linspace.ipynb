{
 "cells": [
  {
   "cell_type": "markdown",
   "metadata": {},
   "source": [
    "# [numpy.linspace](https://docs.scipy.org/doc/numpy-1.13.0/reference/generated/numpy.linspace.html)\n",
    "* 用例:    \n",
    "**numpy.linspace**(start, stop, num=50, endpoint=True, retstep=False, dtype=None)    \n",
    "* 功能:    \n",
    "在指定区间内返回均匀间隔的数字。    \n",
    "返回区间[start, stop]范围内num个均匀间隔的样本。    \n",
    "可以选择是否包含区间的结束位置点。      \n",
    "* 参数:     \n",
    "\n",
    "| 变量名 | 数据类型 | 功能 |\n",
    "|:---:|:---:|:---:|\n",
    "| start | 标量 | 序列起始位置的值 |\n",
    "| stop | 标量 | 当endpoint=True时，代表序列结束位置的值。当endpoint=False时，序列会从[start, stop-1]范围内均匀间隔采集num个样本。<br>注意：当endpoint=False时，采集的间隔会发生改变</br> |\n",
    "| num  | 整数，可选参数 | 产生的样本数量。默认是50。该值必须非负 |\n",
    "| endpoint | bool变量，可选参数 | 如果为True，stop是最后一个值。否则，stop不被包含在序列内。默认是True |\n",
    "| retstep | bool变量，可选参数 | 如果为True，返回(samples, step)，其中step是样本之间的采样间隔 |\n",
    "| dtype | dtype变量，可选参数 | 返回数组的数值类型，如果不给定`dtype`，从其他输入参数推断数据类型，这个是numpy 1.9.0版本的新特性 |\n",
    "\n",
    "* 返回值:\n",
    "\n",
    "| 变量名 | 数据类型 | 功能 |\n",
    "|:---:|:---:|:---:|\n",
    "| samples | n维数组 | 由闭区间`[start, stop]`或半闭区间`[start, stop)`内num个等间隔样本组成。（取决于endpoint是Tru或者False） | \n",
    "| step | 浮点型数字，可选参数 | 当retstep为True时才会返回此参数，代表样本之间的采样间隔 |\n",
    "\n",
    "* 示例:   "
   ]
  },
  {
   "cell_type": "code",
   "execution_count": 1,
   "metadata": {},
   "outputs": [
    {
     "name": "stdout",
     "output_type": "stream",
     "text": [
      "第一个输出为：[2.   2.25 2.5  2.75 3.  ]\n",
      "第二个输出为：[2.  2.2 2.4 2.6 2.8]\n",
      "第三个输出为：(array([2.  , 2.25, 2.5 , 2.75, 3.  ]), 0.25)\n"
     ]
    }
   ],
   "source": [
    "import numpy as np\n",
    "print('第一个输出为：{}'.format(np.linspace(2.0, 3.0, num=5)))\n",
    "print('第二个输出为：{}'.format(np.linspace(2.0, 3.0, num=5, endpoint=False)))\n",
    "print('第三个输出为：{}'.format(np.linspace(2.0, 3.0, num=5, retstep=True)))"
   ]
  },
  {
   "cell_type": "markdown",
   "metadata": {},
   "source": [
    "可视化分析"
   ]
  },
  {
   "cell_type": "code",
   "execution_count": 3,
   "metadata": {},
   "outputs": [
    {
     "data": {
      "image/png": "[encoded data removed]",
      "text/plain": [
       "<matplotlib.figure.Figure at 0x216794c4a58>"
      ]
     },
     "metadata": {
      "needs_background": "light"
     },
     "output_type": "display_data"
    }
   ],
   "source": [
    "import matplotlib.pyplot as plt\n",
    "N = 8\n",
    "y = np.zeros(N)\n",
    "x1 = np.linspace(0, 10, N, endpoint=True)\n",
    "x2 = np.linspace(0, 10, N, endpoint=False)\n",
    "plt.plot(x1, y, 'o')\n",
    "plt.plot(x2, y + 0.5, 'o')\n",
    "plt.ylim([-0.5, 1])\n",
    "plt.show()"
   ]
  }
 ],
 "metadata": {
  "kernelspec": {
   "display_name": "Python (base)",
   "language": "python",
   "name": "base"
  },
  "language_info": {
   "codemirror_mode": {
    "name": "ipython",
    "version": 3
   },
   "file_extension": ".py",
   "mimetype": "text/x-python",
   "name": "python",
   "nbconvert_exporter": "python",
   "pygments_lexer": "ipython3",
   "version": "3.6.4"
  },
  "latex_envs": {
   "LaTeX_envs_menu_present": true,
   "autoclose": false,
   "autocomplete": true,
   "bibliofile": "biblio.bib",
   "cite_by": "apalike",
   "current_citInitial": 1,
   "eqLabelWithNumbers": true,
   "eqNumInitial": 1,
   "hotkeys": {
    "equation": "Ctrl-E",
    "itemize": "Ctrl-I"
   },
   "labels_anchors": false,
   "latex_user_defs": false,
   "report_style_numbering": false,
   "user_envs_cfg": false
  },
  "toc": {
   "base_numbering": 1,
   "nav_menu": {},
   "number_sections": true,
   "sideBar": true,
   "skip_h1_title": false,
   "title_cell": "Table of Contents",
   "title_sidebar": "Contents",
   "toc_cell": false,
   "toc_position": {},
   "toc_section_display": true,
   "toc_window_display": false
  }
 },
 "nbformat": 4,
 "nbformat_minor": 2
}
