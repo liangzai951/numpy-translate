{
 "cells": [
  {
   "cell_type": "markdown",
   "metadata": {},
   "source": [
    "# [numpy.tril](https://docs.scipy.org/doc/numpy/reference/generated/numpy.tril.html#numpy.tril)\n",
    "* 用例:    \n",
    " **numpy.tril**(m, k=0)\n",
    "\n",
    "* 功能:     \n",
    "返回数组的下三角部分。     \n",
    "数组拷贝之后，将其第k条对角线上方的元素全部置零。\n",
    "\n",
    "* 参数   \n",
    "\n",
    "| 变量名 | 数据类型 | 功能 |\n",
    "|:---:|:---:|:---:|\n",
    "| m | 形状为(M,N)的数组型变量 | 输入数组。 |\n",
    "| k | 整型，可选参数 | 第k条对角线上方的元素全部置零。k=0（默认值），为主对角线，k<0为主对角线左下方，k>0为主对角线右上方。 |\n",
    "\n",
    "* 返回值\n",
    "\n",
    "| 变量名 | 数据类型 | 功能 |\n",
    "|:---:|:---:|:---:|\n",
    "| tril | 形状为(M,N)的二维数组 | m的下三角，其形状和数值类型和m一致。 |  \n",
    "\n",
    "* 示例:    "
   ]
  },
  {
   "cell_type": "code",
   "execution_count": 1,
   "metadata": {},
   "outputs": [
    {
     "name": "stdout",
     "output_type": "stream",
     "text": [
      "下三角矩阵：\n",
      "[[ 0  0  0]\n",
      " [ 4  0  0]\n",
      " [ 7  8  0]\n",
      " [10 11 12]]\n"
     ]
    }
   ],
   "source": [
    "import numpy as np\n",
    "print('下三角矩阵：\\n{}'.format(np.tril([[1,2,3],[4,5,6],[7,8,9],[10,11,12]], -1)))"
   ]
  }
 ],
 "metadata": {
  "kernelspec": {
   "display_name": "Python (base)",
   "language": "python",
   "name": "base"
  },
  "language_info": {
   "codemirror_mode": {
    "name": "ipython",
    "version": 3
   },
   "file_extension": ".py",
   "mimetype": "text/x-python",
   "name": "python",
   "nbconvert_exporter": "python",
   "pygments_lexer": "ipython3",
   "version": "3.6.4"
  }
 },
 "nbformat": 4,
 "nbformat_minor": 4
}
