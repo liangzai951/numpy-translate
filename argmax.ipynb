{
 "cells": [
  {
   "cell_type": "markdown",
   "metadata": {},
   "source": [
    "# [numpy.argmax](https://docs.scipy.org/doc/numpy-1.13.0/reference/generated/numpy.argmax.html)\n",
    "* 用例:        \n",
    " **numpy.argmax**(a, axis=None, out=None)\n",
    "\n",
    "* 功能:     \n",
    "返回数组沿着某一条轴最大值的索引。\n",
    "\n",
    "* 参数   \n",
    "\n",
    "| 变量名 | 数据类型 | 功能 |\n",
    "|:---:|:---:|:---:|\n",
    "| a | 数组型变量 | 输入数据。 |\n",
    "| axis | 整型，可选参数 | 默认情况下，会先将数组变为一维数组，然后求最大值的索引。否则沿着指定轴计算最大值索引。 |\n",
    "| out | 数组，可选参数 | 若提供此参数，结果将保存到这个数组中。必须为其指定合适的形状和数值类型。 |\n",
    "\n",
    "* 返回值\n",
    "\n",
    "| 变量名 | 数据类型 | 功能 |\n",
    "|:---:|:---:|:---:|\n",
    "| index_array | n维数组或整数 | 数组中的索引。其维度与a.shape中沿轴方向的大小一致。 |  \n",
    "\n",
    "* 备注       \n",
    "若出现多个最大值，则返回最大值第一次出现位置的索引。 \n",
    "\n",
    "* 示例:    "
   ]
  },
  {
   "cell_type": "code",
   "execution_count": 1,
   "metadata": {},
   "outputs": [
    {
     "name": "stdout",
     "output_type": "stream",
     "text": [
      "a数组：\n",
      "[[0 1 2]\n",
      " [3 4 5]]\n",
      "a数组中最大值的索引：5\n",
      "a数组沿列方向最大值的索引：[1 1 1]\n",
      "a数组沿行方向最大值的索引：[2 2]\n",
      "b数组：\n",
      "[0 5 2 3 4 5]\n",
      "b数组最大值的索引：1\n"
     ]
    }
   ],
   "source": [
    "import numpy as np\n",
    "a = np.arange(6).reshape(2,3)\n",
    "print('a数组：\\n{}'.format(a))\n",
    "print('a数组中最大值的索引：{}'.format(np.argmax(a)))\n",
    "print('a数组沿列方向最大值的索引：{}'.format(np.argmax(a, axis=0)))\n",
    "print('a数组沿行方向最大值的索引：{}'.format(np.argmax(a, axis=1)))\n",
    "b = np.arange(6)\n",
    "b[1] = 5\n",
    "print('b数组：\\n{}'.format(b))\n",
    "print('b数组最大值的索引：{}'.format(np.argmax(b)))  # 仅仅返回5第一次出现的位置"
   ]
  }
 ],
 "metadata": {
  "kernelspec": {
   "display_name": "Python (base)",
   "language": "python",
   "name": "base"
  },
  "language_info": {
   "codemirror_mode": {
    "name": "ipython",
    "version": 3
   },
   "file_extension": ".py",
   "mimetype": "text/x-python",
   "name": "python",
   "nbconvert_exporter": "python",
   "pygments_lexer": "ipython3",
   "version": "3.6.4"
  }
 },
 "nbformat": 4,
 "nbformat_minor": 4
}
