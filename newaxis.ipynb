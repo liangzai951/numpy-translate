{
 "cells": [
  {
   "cell_type": "markdown",
   "metadata": {},
   "source": [
    "# [numpy.newaxis](https://stackoverflow.com/questions/29241056/how-does-numpy-newaxis-work-and-when-to-use-it)\n",
    "## `numpy.newaxis`的工作方式及适用场合  \n",
    "简单地说，[newaxis](https://docs.scipy.org/doc/numpy/reference/arrays.indexing.html#numpy.newaxis)的作用是给现有的数组**增加一个维度**。例如：   \n",
    "* **1维**数组将变为**2维**数组\n",
    "* **2维**数组将变为**3维**数组\n",
    "* **3维**数组将变为**4维**数组\n",
    "* **4维**数组将变为**5维**数组      \n",
    "等等。     \n",
    "\n",
    "我们在这里利用图示的方法解释一维数组通过添加新维度变为二维数组的过程：      \n",
    "* 一维数组在列方向（**axis=0**）进行广播变为二维数组：       \n",
    "\n",
    "![列方向添加维度](img/col.png)     \n",
    "* 一维数组在行方向（**axis=1**）进行广播变为二维数组：    \n",
    "\n",
    "![行方向添加维度](img/raw.png)     \n",
    "\n",
    "当然，二维数组沿深度方向（**axis=3**）进行广播可以变为三维数组：    \n",
    "\n",
    "![深度方向添加维度](img/depth.png)\n",
    "***\n",
    "### 适用场合1：   \n",
    "当你想要将一个一维数组像上面图中所示一样，在行方向或列方向进行广播变为二维数组，你可能需要用到`np.newaxis`。    \n",
    "示例代码:   "
   ]
  },
  {
   "cell_type": "code",
   "execution_count": 1,
   "metadata": {},
   "outputs": [
    {
     "name": "stdout",
     "output_type": "stream",
     "text": [
      "arr数组的维度为：(4,)\n",
      "row_vec数组的维度为：(1, 4)\n",
      "col_vec数组的维度为：(4, 1)\n"
     ]
    }
   ],
   "source": [
    "# 创建一维数组\n",
    "import numpy as np\n",
    "arr = np.arange(4)\n",
    "print('arr数组的维度为：{}'.format(arr.shape))\n",
    "# 我们沿着第一维添加轴使其成为行向量\n",
    "row_vec = arr[np.newaxis, :]        # 也可写为arr[None, :]\n",
    "print('row_vec数组的维度为：{}'.format(row_vec.shape))\n",
    "# 我们沿着第二维添加轴使其成为列向量\n",
    "col_vec = arr[:, np.newaxis]        # 也可写为arr[:, None]\n",
    "print('col_vec数组的维度为：{}'.format(col_vec.shape))"
   ]
  },
  {
   "cell_type": "markdown",
   "metadata": {},
   "source": [
    "### 适用场合2：   \n",
    "当你需要在一些计算过程中采用numpy的[广播机制](https://blog.csdn.net/wzy628810/article/details/103869550)（例如求两个维度不同的数组之和的时候），你可能需要用到`np.newaxis`。      \n",
    "示例代码:  \n",
    "例如你想求以下两数组之和"
   ]
  },
  {
   "cell_type": "code",
   "execution_count": 2,
   "metadata": {},
   "outputs": [],
   "source": [
    "x1 = np.array([1, 2, 3, 4, 5])\n",
    "x2 = np.array([5, 4, 3])"
   ]
  },
  {
   "cell_type": "markdown",
   "metadata": {},
   "source": [
    "如果你将两数组直接相加，Numpy将产生`ValueError`错误:"
   ]
  },
  {
   "cell_type": "code",
   "execution_count": 3,
   "metadata": {},
   "outputs": [
    {
     "ename": "ValueError",
     "evalue": "operands could not be broadcast together with shapes (5,) (3,) ",
     "output_type": "error",
     "traceback": [
      "\u001b[1;31m---------------------------------------------------------------------------\u001b[0m",
      "\u001b[1;31mValueError\u001b[0m                                Traceback (most recent call last)",
      "\u001b[1;32m<ipython-input-3-dd01ff2e8cbd>\u001b[0m in \u001b[0;36m<module>\u001b[1;34m\u001b[0m\n\u001b[1;32m----> 1\u001b[1;33m \u001b[0mx1\u001b[0m\u001b[1;33m+\u001b[0m\u001b[0mx2\u001b[0m\u001b[1;33m\u001b[0m\u001b[0m\n\u001b[0m",
      "\u001b[1;31mValueError\u001b[0m: operands could not be broadcast together with shapes (5,) (3,) "
     ]
    }
   ],
   "source": [
    "x1+x2"
   ]
  },
  {
   "cell_type": "markdown",
   "metadata": {},
   "source": [
    "在这种情况下，你可以使用`np.newaxis`对其中一个数组增加维度，这样子numpy便可利用其[广播机制](https://blog.csdn.net/wzy628810/article/details/103869550)使两个数组变为相同维度了。"
   ]
  },
  {
   "cell_type": "code",
   "execution_count": 4,
   "metadata": {},
   "outputs": [
    {
     "name": "stdout",
     "output_type": "stream",
     "text": [
      "现在，x1_new的维度变为了：(5, 1)\n",
      "x1_new的具体内容为：\n",
      "[[1]\n",
      " [2]\n",
      " [3]\n",
      " [4]\n",
      " [5]]\n"
     ]
    }
   ],
   "source": [
    "x1_new = x1[:, np.newaxis]         # 也可写为x1[:, None]\n",
    "print('现在，x1_new的维度变为了：{}'.format(x1_new.shape))\n",
    "print('x1_new的具体内容为：\\n{}'.format(x1_new))"
   ]
  },
  {
   "cell_type": "markdown",
   "metadata": {},
   "source": [
    "此时，我们再进行数组相加的运算:"
   ]
  },
  {
   "cell_type": "code",
   "execution_count": 5,
   "metadata": {},
   "outputs": [
    {
     "name": "stdout",
     "output_type": "stream",
     "text": [
      "x1_new + x2 = \n",
      "[[ 6  5  4]\n",
      " [ 7  6  5]\n",
      " [ 8  7  6]\n",
      " [ 9  8  7]\n",
      " [10  9  8]]\n"
     ]
    }
   ],
   "source": [
    "print('x1_new + x2 = \\n{}'.format(x1_new + x2))"
   ]
  },
  {
   "cell_type": "markdown",
   "metadata": {},
   "source": [
    "***\n",
    "同样的，你也可以选择为数组`x2`添加轴:"
   ]
  },
  {
   "cell_type": "code",
   "execution_count": 6,
   "metadata": {},
   "outputs": [
    {
     "name": "stdout",
     "output_type": "stream",
     "text": [
      "现在，x2_new的维度变为了：(3, 1)\n",
      "x2_new的具体内容为：\n",
      "[[5]\n",
      " [4]\n",
      " [3]]\n"
     ]
    }
   ],
   "source": [
    "x2_new = x2[:, np.newaxis]         # 也可写为x2[:, None]\n",
    "print('现在，x2_new的维度变为了：{}'.format(x2_new.shape))\n",
    "print('x2_new的具体内容为：\\n{}'.format(x2_new))"
   ]
  },
  {
   "cell_type": "markdown",
   "metadata": {},
   "source": [
    "此时，我们再进行数组相加的运算:"
   ]
  },
  {
   "cell_type": "code",
   "execution_count": 7,
   "metadata": {},
   "outputs": [
    {
     "name": "stdout",
     "output_type": "stream",
     "text": [
      "x1 + x2_new = \n",
      "[[ 6  7  8  9 10]\n",
      " [ 5  6  7  8  9]\n",
      " [ 4  5  6  7  8]]\n"
     ]
    }
   ],
   "source": [
    "print('x1 + x2_new = \\n{}'.format(x1 + x2_new))"
   ]
  },
  {
   "cell_type": "markdown",
   "metadata": {},
   "source": [
    "**注意：**通过观察我们可以发现两次计算结果相同（其中一个是另一个的转置）。    \n",
    "***\n",
    "### 适用场合3：\n",
    "和场合1类似，但是你可以多次使用`np.newaxis`将数组扩充到更高维度。对于高阶数组(例如：张量)，有时需要这样的操作。    \n",
    "示例代码: "
   ]
  },
  {
   "cell_type": "code",
   "execution_count": 8,
   "metadata": {},
   "outputs": [
    {
     "name": "stdout",
     "output_type": "stream",
     "text": [
      "arr数组的维度为：(5, 5)\n",
      "arr_5D数组的维度为：(1, 5, 5, 1, 1)\n"
     ]
    }
   ],
   "source": [
    "arr = np.arange(5*5).reshape(5,5)\n",
    "print('arr数组的维度为：{}'.format(arr.shape))\n",
    "# 将2维数组变为5维数组\n",
    "arr_5D = arr[np.newaxis, ..., np.newaxis, np.newaxis]     # 也可写为arr[None, ..., None, None]\n",
    "print('arr_5D数组的维度为：{}'.format(arr_5D.shape))"
   ]
  },
  {
   "cell_type": "markdown",
   "metadata": {},
   "source": [
    "***\n",
    "* `np.newaxis`和`np.reshape`的不同之处           \n",
    "`newaxis`也被称为假索引，它允许临时将一个轴添加到多维数组中。       \n",
    "`np.newaxis`使用切片操作符来创建新数组，然而`np.reshape`是根据所需形状对数组进行形状变换（变换前后的维度必须互相匹配）。      \n",
    "示例代码:  "
   ]
  },
  {
   "cell_type": "code",
   "execution_count": 9,
   "metadata": {},
   "outputs": [
    {
     "name": "stdout",
     "output_type": "stream",
     "text": [
      "A + B[:, np.newaxis, :]的维度为：(3, 4, 5, 6)\n"
     ]
    }
   ],
   "source": [
    "A = np.ones((3,4,5,6))\n",
    "B = np.ones((4,6))\n",
    "print('A + B[:, np.newaxis, :]的维度为：{}'.format((A + B[:, np.newaxis, :]).shape))"
   ]
  },
  {
   "cell_type": "markdown",
   "metadata": {},
   "source": [
    "上例中，我们在数组`B`的第一个轴和第二个轴之间临时添加一个轴（这里使用`np.newaxis`填充缺失的轴，只有这样子数组才可以进行广播）。   \n",
    "***\n",
    "**小贴士：**你也可以使用`None`代替`np.newaxis`，事实上，他们是相同的对象。"
   ]
  },
  {
   "cell_type": "code",
   "execution_count": 10,
   "metadata": {},
   "outputs": [
    {
     "name": "stdout",
     "output_type": "stream",
     "text": [
      "np.newaxis和None一样吗：True\n"
     ]
    }
   ],
   "source": [
    "print('np.newaxis和None一样吗：{}'.format(np.newaxis is None))"
   ]
  }
 ],
 "metadata": {
  "kernelspec": {
   "display_name": "Python (base)",
   "language": "python",
   "name": "base"
  },
  "language_info": {
   "codemirror_mode": {
    "name": "ipython",
    "version": 3
   },
   "file_extension": ".py",
   "mimetype": "text/x-python",
   "name": "python",
   "nbconvert_exporter": "python",
   "pygments_lexer": "ipython3",
   "version": "3.6.4"
  },
  "latex_envs": {
   "LaTeX_envs_menu_present": true,
   "autoclose": false,
   "autocomplete": true,
   "bibliofile": "biblio.bib",
   "cite_by": "apalike",
   "current_citInitial": 1,
   "eqLabelWithNumbers": true,
   "eqNumInitial": 1,
   "hotkeys": {
    "equation": "Ctrl-E",
    "itemize": "Ctrl-I"
   },
   "labels_anchors": false,
   "latex_user_defs": false,
   "report_style_numbering": false,
   "user_envs_cfg": false
  },
  "toc": {
   "base_numbering": 1,
   "nav_menu": {},
   "number_sections": true,
   "sideBar": true,
   "skip_h1_title": false,
   "title_cell": "Table of Contents",
   "title_sidebar": "Contents",
   "toc_cell": false,
   "toc_position": {},
   "toc_section_display": true,
   "toc_window_display": false
  }
 },
 "nbformat": 4,
 "nbformat_minor": 2
}
