{
 "cells": [
  {
   "cell_type": "markdown",
   "metadata": {},
   "source": [
    "# [numpy.divide](https://docs.scipy.org/doc/numpy/reference/generated/numpy.divide.html)\n",
    "* 用例:    \n",
    "**numpy.divide**(x1, x2, /, out=None, *, where=True, casting='same_kind', order='K', dtype=None, subok=True[, signature, extobj]) = <ufunc 'true_divide'>\n",
    "\n",
    "* 功能:     \n",
    "数组对应位置元素做除法。     \n",
    "这里的除法结果和Python传统的`地板除`不同，这里得到的是真实值。numpy.divide的计算结果适应于输出值的数值类型，与输入值的数值类型无关。\n",
    "\n",
    "* 参数   \n",
    "\n",
    "| 变量名 | 数据类型 | 功能 |\n",
    "|:---:|:---:|:---:|\n",
    "| x1 | 数组型变量 | 充当被除数的数组 |\n",
    "| x2 | 数组型变量 | 充当除数的数组。如果`x1.shape != x2.shape`，它们必须扩维到同样的维度（此维度也为输出值的维度）。 |\n",
    "| out | n维数组，None，n维数组组成的元组，可选参数 | 计算结果的存放位置。若提供此参数，它的维度必须和输入数组扩维后的维度保持一致。<br>若不提供此参数或该值为None，返回新开辟的数组。若此值为元组类型，其长度必须和返回值的个数保持一致。</br> |\n",
    "| where | 数组型变量，可选参数 | 用默认值即可 |\n",
    "\n",
    "* 返回值\n",
    "\n",
    "| 变量名 | 数据类型 | 功能 |\n",
    "|:---:|:---:|:---:|\n",
    "| out | n维数组或标量 | 如果x1和x2均为标量，那么返回值也为标量 |   \n",
    "\n",
    "* 备注\n",
    "***\n",
    "在Python 2.2中地板除运算符`//`和除法运算符`/`的计算结果一致。通过在程序中添加`from __future__ import division`代码段可以将默认的地板除运算符`/`变为真正的除法运算符。     \n",
    "在Python 3.0中`//`为地板除运算符而`/`为真正的除法运算符。函数`true_divide(x1, x2)`的计算结果也为真正除法。\n",
    "\n",
    "* 示例:    "
   ]
  },
  {
   "cell_type": "code",
   "execution_count": 1,
   "metadata": {},
   "outputs": [
    {
     "name": "stdout",
     "output_type": "stream",
     "text": [
      "真正除法的运算结果：[0.   0.25 0.5  0.75 1.  ]\n",
      "地板除运算结果：[0 0 0 0 1]\n",
      "真正除法的运算结果：[0.   0.25 0.5  0.75 1.  ]\n",
      "真正除法的运算结果：[0.   0.25 0.5  0.75 1.  ]\n"
     ]
    }
   ],
   "source": [
    "from __future__ import division\n",
    "import numpy as np\n",
    "x = np.arange(5)\n",
    "print('真正除法的运算结果：{}'.format(np.true_divide(x, 4)))\n",
    "print('地板除运算结果：{}'.format(x//4))\n",
    "print('真正除法的运算结果：{}'.format(x/4))\n",
    "# 会将4复制5个变为(5,)数组\n",
    "print('真正除法的运算结果：{}'.format(np.divide(x, 4)))"
   ]
  }
 ],
 "metadata": {
  "kernelspec": {
   "display_name": "Python (base)",
   "language": "python",
   "name": "base"
  },
  "language_info": {
   "codemirror_mode": {
    "name": "ipython",
    "version": 3
   },
   "file_extension": ".py",
   "mimetype": "text/x-python",
   "name": "python",
   "nbconvert_exporter": "python",
   "pygments_lexer": "ipython3",
   "version": "3.6.4"
  },
  "latex_envs": {
   "LaTeX_envs_menu_present": true,
   "autoclose": false,
   "autocomplete": true,
   "bibliofile": "biblio.bib",
   "cite_by": "apalike",
   "current_citInitial": 1,
   "eqLabelWithNumbers": true,
   "eqNumInitial": 1,
   "hotkeys": {
    "equation": "Ctrl-E",
    "itemize": "Ctrl-I"
   },
   "labels_anchors": false,
   "latex_user_defs": false,
   "report_style_numbering": false,
   "user_envs_cfg": false
  },
  "toc": {
   "base_numbering": 1,
   "nav_menu": {},
   "number_sections": true,
   "sideBar": true,
   "skip_h1_title": false,
   "title_cell": "Table of Contents",
   "title_sidebar": "Contents",
   "toc_cell": false,
   "toc_position": {},
   "toc_section_display": true,
   "toc_window_display": false
  }
 },
 "nbformat": 4,
 "nbformat_minor": 2
}
