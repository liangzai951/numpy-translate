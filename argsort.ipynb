{
 "cells": [
  {
   "cell_type": "markdown",
   "metadata": {},
   "source": [
    "# [numpy.argsort](https://docs.scipy.org/doc/numpy/reference/generated/numpy.argsort.html#numpy.argsort)\n",
    "* 用例:    \n",
    " **numpy.argsort**(a, axis=-1, kind=None, order=None)\n",
    "\n",
    "* 功能:     \n",
    "返回数组排序后的元素索引值。       \n",
    "根据`kind`指定的算法对数组沿着`axis`轴进行排序。其返回值的形状和`a`一致，返回值内容为排序后元素在原始数组中的索引。\n",
    "\n",
    "* 参数   \n",
    "\n",
    "| 变量名 | 数据类型 | 功能 |\n",
    "|:---:|:---:|:---:|\n",
    "| a | 数组型变量 | 被排序的数组。 |\n",
    "| axis | 整型或None，可选参数 | 指定沿着哪个轴排序。默认值是-1即最后一维。若为None，则会将数组拉伸为一维。 |\n",
    "| kind | {'quicksort', 'mergesort', 'heapsort', 'stable'}, 可选参数 | 排序算法，默认为'quicksort'。注意：'stable'和'mergesort'的后端都是使用[timsort](https://www.jianshu.com/p/892ebd063ad9)算法，并且在通常情况下，算法的计算结果会随数值类型的不同而发生改变。保留'mergesort'参数是为了向后兼容。 |\n",
    "| order | 字符串、字符串组成的列表，可选参数 | 当数组a定义了字段时，此参数指定先比较哪个字段再比较哪个字段。通过字符串可以单一指定某个字段，并且并不是所有字段均需被指定，未被指定的字段也会参与排序（按照他们在`dtype`中的出现顺序进行排序）。 |\n",
    "\n",
    "* 返回值\n",
    "\n",
    "| 变量名 | 数据类型 | 功能 |\n",
    "|:---:|:---:|:---:|\n",
    "| index_array | n维数组或整数 | 将a沿着指定轴排序后其索引组成的数组。若a为一维数组，`a[index_array]`生成排序后的a数组。更一般的，无论a为多少维数组，我们均可使用`np.take_along_axis(a, index_array, axis=axis)`生成排序后的a数组 |  \n",
    "\n",
    "* 备注       \n",
    "有关不同排序算法的说明，请参阅[sort](https://docs.scipy.org/doc/numpy/reference/generated/numpy.sort.html#numpy.sort)。   \n",
    "NumPy 1.4.0及以后的版本中，`argsort`可以对包含实数、复数、空值的数组进行排序。在[sort](https://docs.scipy.org/doc/numpy/reference/generated/numpy.sort.html#numpy.sort)中详细阐述了增强的排序算法。\n",
    "\n",
    "* 示例:    "
   ]
  },
  {
   "cell_type": "code",
   "execution_count": 1,
   "metadata": {},
   "outputs": [
    {
     "name": "stdout",
     "output_type": "stream",
     "text": [
      "一维数组的排序结果：[1 2 0]\n",
      "被排序的数组为：\n",
      "[[0 3]\n",
      " [2 2]]\n",
      "列方向的排序索引为：\n",
      "[[0 1]\n",
      " [1 0]]\n",
      "列方向的排序结果为：\n",
      "[[0 2]\n",
      " [2 3]]\n",
      "行方向的排序索引为：\n",
      "[[0 1]\n",
      " [0 1]]\n",
      "行方向的排序结果为：\n",
      "[[0 3]\n",
      " [2 2]]\n",
      "多维数组拉伸为一维后排序的索引为：(array([0, 1, 1, 0], dtype=int64), array([0, 0, 1, 1], dtype=int64))\n",
      "将多维数组拉伸为一维后进行排序：[0 2 2 3]\n",
      "原始数组为：\n"
     ]
    },
    {
     "data": {
      "text/plain": [
       "array([(1, 0), (0, 1)], dtype=[('x', '<i4'), ('y', '<i4')])"
      ]
     },
     "execution_count": 1,
     "metadata": {},
     "output_type": "execute_result"
    }
   ],
   "source": [
    "import numpy as np\n",
    "# 一维数组\n",
    "x = np.array([3, 1, 2])\n",
    "print('一维数组的排序结果：{}'.format(np.argsort(x)))\n",
    "# 二维数组\n",
    "x = np.array([[0, 3], [2, 2]])\n",
    "print('被排序的数组为：\\n{}'.format(x))\n",
    "# 沿着列方向进行排序\n",
    "ind = np.argsort(x, axis=0) \n",
    "print('列方向的排序索引为：\\n{}'.format(ind))\n",
    "print('列方向的排序结果为：\\n{}'.format(np.take_along_axis(x, ind, axis=0)))\n",
    "# 沿着行方向进行排序\n",
    "ind = np.argsort(x, axis=1) \n",
    "print('行方向的排序索引为：\\n{}'.format(ind))\n",
    "print('行方向的排序结果为：\\n{}'.format(np.take_along_axis(x, ind, axis=1)))\n",
    "# n维数组元素排序后的索引\n",
    "ind = np.unravel_index(np.argsort(x, axis=None), x.shape)\n",
    "print('多维数组拉伸为一维后排序的索引为：{}'.format(ind))\n",
    "print('将多维数组拉伸为一维后进行排序：{}'.format(x[ind]))\n",
    "# 根据指定的键进行排序\n",
    "x = np.array([(1, 0), (0, 1)], dtype=[('x', '<i4'), ('y', '<i4')])\n",
    "print('原始数组为：')\n",
    "x"
   ]
  },
  {
   "cell_type": "code",
   "execution_count": 2,
   "metadata": {},
   "outputs": [
    {
     "name": "stdout",
     "output_type": "stream",
     "text": [
      "先对比x字段，再对比y字段：[1 0]\n",
      "先对比y字段，再对比x字段：[0 1]\n"
     ]
    }
   ],
   "source": [
    "# 沿着指定顺序进行排序\n",
    "print('先对比x字段，再对比y字段：{}'.format(np.argsort(x, order=('x','y'))))\n",
    "print('先对比y字段，再对比x字段：{}'.format(np.argsort(x, order=('y','x'))))"
   ]
  }
 ],
 "metadata": {
  "kernelspec": {
   "display_name": "Python (base)",
   "language": "python",
   "name": "base"
  },
  "language_info": {
   "codemirror_mode": {
    "name": "ipython",
    "version": 3
   },
   "file_extension": ".py",
   "mimetype": "text/x-python",
   "name": "python",
   "nbconvert_exporter": "python",
   "pygments_lexer": "ipython3",
   "version": "3.6.4"
  }
 },
 "nbformat": 4,
 "nbformat_minor": 4
}
