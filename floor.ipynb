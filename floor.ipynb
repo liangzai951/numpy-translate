{
 "cells": [
  {
   "cell_type": "markdown",
   "metadata": {},
   "source": [
    "# [numpy.floor](https://docs.scipy.org/doc/numpy-1.15.1/reference/generated/numpy.floor.html)\n",
    "* 用例:   \n",
    "**numpy.floor**(x, /, out=None, *, where=True, casting='same_kind', order='K', dtype=None, subok=True[, signature, extobj]) = <ufunc 'floor'>    \n",
    "* 功能:    \n",
    "按元素顺序将输入数据的向下取整结果进行返回。我们将不大于标量`x`的最大整数`i`记作其向下取整结果。通常用符号$\\lfloor x \\rfloor$进行表示。  \n",
    "* 参数   \n",
    "\n",
    "| 变量名 | 数据类型 | 功能 |\n",
    "|:---:|:---:|:---:|\n",
    "| x | 数组类型变量 | 输入数据 |\n",
    "| out | n维数组，None，n维数组组成的元组，是一个可选参数 | 计算结果的存储位置，如果提供此参数，其维度必须与输入数据扩充后的维度保持一致。 如果不提供此<br>参数或者此参数值为None，返回新开辟的数组。若此参数为元组，则其长度必须和输出结果的个数保持一致。</br> |\n",
    "| where | 数组类型变量，是一个可选参数 | 此参数一般使用默认值即可 |\n",
    "\n",
    "* 返回值\n",
    "\n",
    "| 变量名 | 数据类型 | 功能 |\n",
    "|:---:|:---:|:---:|\n",
    "| y | n维数组或标量 | 对x中每个元素向下取整，若x为标量，则返回值也为标量 |   \n",
    "\n",
    "* 备注\n",
    "***\n",
    "一些电子表格程序计算会将向下取整计算为向零取整，例如`floor(-2.5) = -2`。NumPy使用的**floor**定义为floor(-2.5) = -3。     \n",
    "* 示例"
   ]
  },
  {
   "cell_type": "code",
   "execution_count": 1,
   "metadata": {},
   "outputs": [
    {
     "data": {
      "text/plain": [
       "array([-2., -2., -1.,  0.,  1.,  1.,  2.])"
      ]
     },
     "execution_count": 1,
     "metadata": {},
     "output_type": "execute_result"
    }
   ],
   "source": [
    "import numpy as np\n",
    "a = np.array([-1.7, -1.5, -0.2, 0.2, 1.5, 1.7, 2.0])\n",
    "np.floor(a)"
   ]
  },
  {
   "cell_type": "code",
   "execution_count": 2,
   "metadata": {},
   "outputs": [
    {
     "name": "stdout",
     "output_type": "stream",
     "text": [
      "原始数据为: [296, 8286, 64011, 80, 3, 725, 867, 2215, 7689, 11495, 91897, 44, 28, 7971, 926, 122, 22222]\n",
      "固定宽度分箱后的结果为: [2. 3. 4. 1. 0. 2. 2. 3. 3. 4. 4. 1. 1. 3. 2. 2. 4.]\n"
     ]
    }
   ],
   "source": [
    "large_counts = [296, 8286, 64011, 80, 3, 725, 867, 2215, 7689, 11495, 91897, 44, 28, 7971, 926, 122, 22222]\n",
    "print('原始数据为: {}'.format(large_counts))\n",
    "final = np.floor(np.log10(large_counts))\n",
    "print('固定宽度分箱后的结果为: {}'.format(final))"
   ]
  }
 ],
 "metadata": {
  "kernelspec": {
   "display_name": "Python (base)",
   "language": "python",
   "name": "base"
  },
  "language_info": {
   "codemirror_mode": {
    "name": "ipython",
    "version": 3
   },
   "file_extension": ".py",
   "mimetype": "text/x-python",
   "name": "python",
   "nbconvert_exporter": "python",
   "pygments_lexer": "ipython3",
   "version": "3.6.4"
  },
  "latex_envs": {
   "LaTeX_envs_menu_present": true,
   "autoclose": false,
   "autocomplete": true,
   "bibliofile": "biblio.bib",
   "cite_by": "apalike",
   "current_citInitial": 1,
   "eqLabelWithNumbers": true,
   "eqNumInitial": 1,
   "hotkeys": {
    "equation": "Ctrl-E",
    "itemize": "Ctrl-I"
   },
   "labels_anchors": false,
   "latex_user_defs": false,
   "report_style_numbering": false,
   "user_envs_cfg": false
  },
  "toc": {
   "base_numbering": 1,
   "nav_menu": {},
   "number_sections": true,
   "sideBar": true,
   "skip_h1_title": false,
   "title_cell": "Table of Contents",
   "title_sidebar": "Contents",
   "toc_cell": false,
   "toc_position": {},
   "toc_section_display": true,
   "toc_window_display": false
  }
 },
 "nbformat": 4,
 "nbformat_minor": 2
}
