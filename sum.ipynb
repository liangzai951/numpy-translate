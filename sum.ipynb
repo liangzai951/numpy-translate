{
 "cells": [
  {
   "cell_type": "markdown",
   "metadata": {},
   "source": [
    "# [numpy.sum](https://docs.scipy.org/doc/numpy-1.13.0/reference/generated/numpy.sum.html)\n",
    "* 用例:    \n",
    " **numpy.sum**(a, axis=None, dtype=None, out=None, keepdims=<class numpy._globals._NoValue>)\n",
    "\n",
    "* 功能:     \n",
    "数组沿着指定的轴求和。\n",
    "\n",
    "* 参数   \n",
    "\n",
    "| 变量名 | 数据类型 | 功能 |\n",
    "|:---:|:---:|:---:|\n",
    "| a | 数组型变量 | 用于求和的元素。 |\n",
    "| axis | None、整数、整数组成的元组，可选参数 | 指定沿着哪条轴求和。默认情况下axis=None，此时计算数组所有元素的和。若axis为负数，-1代表最后一个轴，-2代表数组倒数第二个轴，依此类推。Numpy 1.7.0中的新特性：若axis为整数组成的元组，将沿着所有指定的轴一起求和，而不是沿着单一轴或者所有轴求和。 |\n",
    "| dtype | 数值类型，可选参数 | 利用sum函数求和后返回值的数值类型。除了a为低精度整型以外，默认情况下返回值的数值类型和a一致。若a为有符号值，此函数返回值也为有符号值，若a为无符号值则此函数返回同样精度的无符号整数。 |\n",
    "| out | n维数组，可选参数 | 指定计算结果的存储位置。其维度必须和计算结果的维度保持一致，但是在必要情况下，输出值的数值类型可能被改变。 |\n",
    "\n",
    "* 返回值\n",
    "\n",
    "| 变量名 | 数据类型 | 功能 |\n",
    "|:---:|:---:|:---:|\n",
    "| sum_along_axis | n维数组 | 其形状与a数组剔除掉指定轴维度后的形状一致。若a为0维数组，或者axis=None，返回值为标量。若指定输出数组，将返回out的引用。 |  \n",
    "\n",
    "* 备注       \n",
    "当数组数值类型为整数时，计算结果可能溢出但是不会产生错误。         \n",
    "空数组求和将返回0。\n",
    "\n",
    "* 示例:    "
   ]
  },
  {
   "cell_type": "code",
   "execution_count": 1,
   "metadata": {},
   "outputs": [
    {
     "name": "stdout",
     "output_type": "stream",
     "text": [
      "空数组求和的计算结果：0.0\n",
      "将所有维度的元素求和：2.0\n",
      "指定返回值的数值类型：1\n",
      "将所有维度的元素求和：6\n",
      "沿纵向对二维数组求和：[0 6]\n",
      "沿横向对二维数组求和：[1 5]\n",
      "计算结果溢出：-128\n"
     ]
    }
   ],
   "source": [
    "import numpy as np\n",
    "print('空数组求和的计算结果：{}'.format(np.sum([])))\n",
    "print('将所有维度的元素求和：{}'.format(np.sum([0.5, 1.5])))\n",
    "print('指定返回值的数值类型：{}'.format(np.sum([0.5, 0.7, 0.2, 1.5], dtype=np.int32)))\n",
    "print('将所有维度的元素求和：{}'.format(np.sum([[0, 1], [0, 5]])))\n",
    "print('沿纵向对二维数组求和：{}'.format(np.sum([[0, 1], [0, 5]], axis=0)))\n",
    "print('沿横向对二维数组求和：{}'.format(np.sum([[0, 1], [0, 5]], axis=1)))\n",
    "# 如果累加器的数值范围太小时，会发生数据溢出\n",
    "print('计算结果溢出：{}'.format(np.ones(128, dtype=np.int8).sum(dtype=np.int8)))"
   ]
  }
 ],
 "metadata": {
  "kernelspec": {
   "display_name": "Python (base)",
   "language": "python",
   "name": "base"
  },
  "language_info": {
   "codemirror_mode": {
    "name": "ipython",
    "version": 3
   },
   "file_extension": ".py",
   "mimetype": "text/x-python",
   "name": "python",
   "nbconvert_exporter": "python",
   "pygments_lexer": "ipython3",
   "version": "3.6.4"
  }
 },
 "nbformat": 4,
 "nbformat_minor": 4
}
