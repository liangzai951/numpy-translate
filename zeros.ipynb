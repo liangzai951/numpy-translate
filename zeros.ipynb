{
 "cells": [
  {
   "cell_type": "markdown",
   "metadata": {},
   "source": [
    "# [numpy.zeros](https://docs.scipy.org/doc/numpy-1.13.0/reference/generated/numpy.zeros.html)\n",
    "* 用例:    \n",
    "**numpy.zeros**(shape, dtype=float, order='C')           \n",
    "* 功能:     \n",
    "根据给定的维度和数值类型返回一个新的数组，并用0将该数组进行填充。     \n",
    "* 参数:     \n",
    "\n",
    "| 变量名 | 数据类型 | 功能 |\n",
    "|:---:|:---:|:---:|\n",
    "| shape | 整型或者整型组成的元组 | 新数组的维度，例如`(2, 3)`或者`2` |\n",
    "| dtype | 数据类型，可选参数 | 新数组元素的数据类型，例如`numpy.int8`。默认为`numpy.float64` |\n",
    "| order | {'C', 'F'}，可选参数 | 是否在内存中以C或fortran(行或列)顺序存储多维数据 |\n",
    "\n",
    "* 返回值:\n",
    "\n",
    "| 变量名 | 数据类型 | 功能 |\n",
    "|:---:|:---:|:---:|\n",
    "| out | n维数组 | 根据给定的维度、数值类型以及顺序生成的全零数组 | \n",
    "\n",
    "* 示例:"
   ]
  },
  {
   "cell_type": "code",
   "execution_count": 1,
   "metadata": {},
   "outputs": [
    {
     "name": "stdout",
     "output_type": "stream",
     "text": [
      "拥有5个元素的全零一维数组：[0. 0. 0. 0. 0.]\n",
      "数组的数值类型为np.int：[0 0 0 0 0]\n",
      "创建一个二维数组：\n",
      "[[0.]\n",
      " [0.]]\n",
      "或者这样创建一个二维数组：\n",
      "[[0. 0.]\n",
      " [0. 0.]]\n"
     ]
    }
   ],
   "source": [
    "import numpy as np\n",
    "print('拥有5个元素的全零一维数组：{}'.format(np.zeros(5)))\n",
    "print('数组的数值类型为np.int：{}'.format(np.zeros((5,), dtype=np.int)))\n",
    "print('创建一个二维数组：\\n{}'.format(np.zeros((2, 1))))\n",
    "s = (2, 2)\n",
    "print('或者这样创建一个二维数组：\\n{}'.format(np.zeros(s)))"
   ]
  },
  {
   "cell_type": "code",
   "execution_count": 2,
   "metadata": {},
   "outputs": [
    {
     "data": {
      "text/plain": [
       "array([(0, 0), (0, 0)], dtype=[('x', '<i4'), ('y', '<i4')])"
      ]
     },
     "execution_count": 2,
     "metadata": {},
     "output_type": "execute_result"
    }
   ],
   "source": [
    "# 自定义数据类型\n",
    "np.zeros((2,), dtype=[('x', 'i4'), ('y', 'i4')])"
   ]
  }
 ],
 "metadata": {
  "kernelspec": {
   "display_name": "Python (base)",
   "language": "python",
   "name": "base"
  },
  "language_info": {
   "codemirror_mode": {
    "name": "ipython",
    "version": 3
   },
   "file_extension": ".py",
   "mimetype": "text/x-python",
   "name": "python",
   "nbconvert_exporter": "python",
   "pygments_lexer": "ipython3",
   "version": "3.6.4"
  },
  "latex_envs": {
   "LaTeX_envs_menu_present": true,
   "autoclose": false,
   "autocomplete": true,
   "bibliofile": "biblio.bib",
   "cite_by": "apalike",
   "current_citInitial": 1,
   "eqLabelWithNumbers": true,
   "eqNumInitial": 1,
   "hotkeys": {
    "equation": "Ctrl-E",
    "itemize": "Ctrl-I"
   },
   "labels_anchors": false,
   "latex_user_defs": false,
   "report_style_numbering": false,
   "user_envs_cfg": false
  },
  "toc": {
   "base_numbering": 1,
   "nav_menu": {},
   "number_sections": true,
   "sideBar": true,
   "skip_h1_title": false,
   "title_cell": "Table of Contents",
   "title_sidebar": "Contents",
   "toc_cell": false,
   "toc_position": {},
   "toc_section_display": true,
   "toc_window_display": false
  }
 },
 "nbformat": 4,
 "nbformat_minor": 2
}
