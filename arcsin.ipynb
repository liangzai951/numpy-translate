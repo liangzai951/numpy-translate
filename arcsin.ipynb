{
 "cells": [
  {
   "cell_type": "markdown",
   "metadata": {},
   "source": [
    "# [numpy.arcsin](https://docs.scipy.org/doc/numpy/reference/generated/numpy.arcsin.html)\n",
    "* 用例:    \n",
    "**numpy.arcsin**(x, /, out=None, *, where=True, casting='same_kind', order='K', dtype=None, subok=True[, signature, extobj]) = <ufunc 'arcsin'>\n",
    "\n",
    "* 功能:     \n",
    "对数组中的每一个元素求反正弦函数。\n",
    "\n",
    "* 参数   \n",
    "\n",
    "| 变量名 | 数据类型 | 功能 |\n",
    "|:---:|:---:|:---:|\n",
    "| x | 数组型变量 | 单位圆上的y坐标。 |\n",
    "| out | n维数组，None，n维数组组成的元组，<br>可选参数</br> | 指定结果存储的位置。若提供此参数，其维度必须与输入数组广播后的维度一致。<br>若不提供此参数或参数值为None，将返回新开辟的数组。若此参数为元组，其长度必须和返回值的个数保持一致。</br> |\n",
    "| where | 数组型变量，可选参数 | `True`用于标记进行函数计算的位置，`False`用于标记此位置不进行函数计算，直接将输入值原样返回，通常用默认值即可。 |\n",
    "\n",
    "* 返回值\n",
    "\n",
    "| 变量名 | 数据类型 | 功能 |\n",
    "|:---:|:---:|:---:|\n",
    "| angle | n维数组 | 对x中的每一个元素求反正弦值。结果为弧度制且落在闭区间`[-pi/2, pi/2]`内。如果x为标量，那么此计算值也为标量。 |   \n",
    "\n",
    "* 备注\n",
    "***\n",
    "`arcsin`是一个多值函数：对于x中的每个值，都有无穷多个z满足等式`sin(z)=x` 。我们通常约定返回值z取实数部分落在闭区间`[-pi/2, pi/2]`内的值。   \n",
    "若输入数值类型为实数，`arcsin`返回值的类型也为实数。若x中有元素不能解析为实数或者无穷大，函数将返回`nan`，并产生非法浮点值错误。    \n",
    "反正弦函数也可表示为`asin`或`sin^{-1}`。\n",
    "\n",
    "* 示例:    "
   ]
  },
  {
   "cell_type": "code",
   "execution_count": 1,
   "metadata": {},
   "outputs": [
    {
     "name": "stdout",
     "output_type": "stream",
     "text": [
      "1的反正弦值：1.5707963267948966\n",
      "-1的反正弦值：-1.5707963267948966\n",
      "0的反正弦值：0.0\n"
     ]
    }
   ],
   "source": [
    "import numpy as np\n",
    "print('1的反正弦值：{}'.format(np.arcsin(1)))      # pi/2\n",
    "print('-1的反正弦值：{}'.format(np.arcsin(-1)))    # -pi/2\n",
    "print('0的反正弦值：{}'.format(np.arcsin(0)))"
   ]
  }
 ],
 "metadata": {
  "kernelspec": {
   "display_name": "Python (base)",
   "language": "python",
   "name": "base"
  },
  "language_info": {
   "codemirror_mode": {
    "name": "ipython",
    "version": 3
   },
   "file_extension": ".py",
   "mimetype": "text/x-python",
   "name": "python",
   "nbconvert_exporter": "python",
   "pygments_lexer": "ipython3",
   "version": "3.6.4"
  },
  "latex_envs": {
   "LaTeX_envs_menu_present": true,
   "autoclose": false,
   "autocomplete": true,
   "bibliofile": "biblio.bib",
   "cite_by": "apalike",
   "current_citInitial": 1,
   "eqLabelWithNumbers": true,
   "eqNumInitial": 1,
   "hotkeys": {
    "equation": "Ctrl-E",
    "itemize": "Ctrl-I"
   },
   "labels_anchors": false,
   "latex_user_defs": false,
   "report_style_numbering": false,
   "user_envs_cfg": false
  },
  "toc": {
   "base_numbering": 1,
   "nav_menu": {},
   "number_sections": true,
   "sideBar": true,
   "skip_h1_title": false,
   "title_cell": "Table of Contents",
   "title_sidebar": "Contents",
   "toc_cell": false,
   "toc_position": {},
   "toc_section_display": true,
   "toc_window_display": false
  }
 },
 "nbformat": 4,
 "nbformat_minor": 2
}
